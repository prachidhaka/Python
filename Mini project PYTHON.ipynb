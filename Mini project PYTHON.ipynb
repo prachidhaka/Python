{
 "cells": [
  {
   "cell_type": "code",
   "execution_count": 1,
   "id": "8b8bd989",
   "metadata": {},
   "outputs": [
    {
     "name": "stdout",
     "output_type": "stream",
     "text": [
      "Apna email dalo :google@gmail.com\n",
      "Apna password dalo :1234\n",
      "Welcome\n"
     ]
    }
   ],
   "source": [
    "# 1. Login code :\n",
    "\n",
    "email = input(\"Apna email dalo :\")\n",
    "if \"@\" in email:\n",
    "    password = input(\"Apna password dalo :\")\n",
    "    \n",
    "    \n",
    "\n",
    "    if  email == \"google@gmail.com\" and password == \"1234\":\n",
    "        print(\"Welcome\")\n",
    "\n",
    "    elif email != \"google@gmail.com\" and password == \"1234\":\n",
    "        print(\"Email Incorrect :\")\n",
    "        email = input (\"Email firse daal :\")\n",
    "        if email == \"google@gmail.com\": \n",
    "            print(\"Finally shi de deya \")\n",
    "        else :\n",
    "            print(\"Still a mistake \")\n",
    "\n",
    "    elif email == \"google@gmail.com\" and password != \"1234\":\n",
    "            print(\"Password Incorrect :\")\n",
    "            password = input (\"Password firse daal:\")\n",
    "            if password  == \"1234\":\n",
    "                print(\"Finally shi de deya \")\n",
    "            else:\n",
    "                print(\"Still Mistake \")\n",
    "\n",
    "else:\n",
    "    print(\"Incorrect credentials\")"
   ]
  },
  {
   "cell_type": "code",
   "execution_count": 6,
   "id": "11fadd2e",
   "metadata": {},
   "outputs": [
    {
     "name": "stdout",
     "output_type": "stream",
     "text": [
      "Apna email dalo :google@gmail.com\n",
      "Apna password dalo :1234\n",
      "Welcome\n"
     ]
    }
   ],
   "source": [
    "#right to the point code :\n",
    "\n",
    "email = input(\"Apna email dalo :\")\n",
    "password = input(\"Apna password dalo :\")\n",
    "\n",
    "if email == \"google@gmail.com\" and password == \"1234\":\n",
    "    print(\"Welcome\")\n",
    "else:\n",
    "    print(\"Incorrect credentials\")"
   ]
  },
  {
   "cell_type": "code",
   "execution_count": 7,
   "id": "8ac28870",
   "metadata": {},
   "outputs": [],
   "source": [
    "# 2.Gussing_game():"
   ]
  },
  {
   "cell_type": "code",
   "execution_count": 2,
   "id": "79150946",
   "metadata": {},
   "outputs": [],
   "source": [
    "# Import the random module to generate random numbers\n",
    "import random"
   ]
  },
  {
   "cell_type": "code",
   "execution_count": 4,
   "id": "aaa34dd2",
   "metadata": {},
   "outputs": [
    {
     "name": "stdout",
     "output_type": "stream",
     "text": [
      " Number guess kro :90\n",
      "Guess lower\n",
      " Number guess kro :50\n",
      "Guess lower\n",
      " Number guess kro :30\n",
      "Guess Higher\n",
      " Number guess kro :45\n",
      "Guess lower\n",
      " Number guess kro :44\n",
      "Guess lower\n",
      " Number guess kro :42\n",
      "Correct Guess\n",
      "Congratulations! You guessed the number in 6 attempts.\n"
     ]
    }
   ],
   "source": [
    "# this will generate a random number between 1 and 100 \n",
    "jackpot =  random.randint(1,100)\n",
    "\n",
    "#Get the user's guess as an integer\n",
    "guess = int(input(\" Number guess kro :\"))\n",
    "\n",
    "# Initialize a counter to track the number of attempts\n",
    "counter = 1 \n",
    "\n",
    "# Loop until the user guesses the correct number\n",
    "while guess != jackpot:\n",
    "    if guess < jackpot:\n",
    "        print(\"Guess Higher\")\n",
    "    else:\n",
    "        print(\"Guess lower\")\n",
    "        \n",
    "     # Get the user's next guess    \n",
    "    guess =  int(input(\" Number guess kro :\"))\n",
    "    \n",
    "    # Increment the counter for each attempt\n",
    "    counter+=1\n",
    "\n",
    "    \n",
    "#print the output :\n",
    "print(\"Correct Guess\") \n",
    "\n",
    "print(\"Congratulations! You guessed the number in\", counter, \"attempts.\")\n"
   ]
  },
  {
   "cell_type": "code",
   "execution_count": 8,
   "id": "36136236",
   "metadata": {},
   "outputs": [],
   "source": [
    "import calendar"
   ]
  },
  {
   "cell_type": "code",
   "execution_count": 10,
   "id": "c209a898",
   "metadata": {},
   "outputs": [
    {
     "name": "stdout",
     "output_type": "stream",
     "text": [
      "     April 2024\n",
      "Mo Tu We Th Fr Sa Su\n",
      " 1  2  3  4  5  6  7\n",
      " 8  9 10 11 12 13 14\n",
      "15 16 17 18 19 20 21\n",
      "22 23 24 25 26 27 28\n",
      "29 30\n",
      "\n"
     ]
    }
   ],
   "source": [
    "cal_current = calendar.month(2024,4)\n",
    "print(cal_current)"
   ]
  },
  {
   "cell_type": "code",
   "execution_count": 11,
   "id": "7186052c",
   "metadata": {},
   "outputs": [],
   "source": [
    "import time"
   ]
  },
  {
   "cell_type": "code",
   "execution_count": 14,
   "id": "f5f866d2",
   "metadata": {},
   "outputs": [
    {
     "name": "stdout",
     "output_type": "stream",
     "text": [
      "19:22:22\n"
     ]
    }
   ],
   "source": [
    "print(time.strftime\n",
    "(\"%H:%M:%S\"))"
   ]
  },
  {
   "cell_type": "code",
   "execution_count": 23,
   "id": "f2f68325",
   "metadata": {},
   "outputs": [
    {
     "name": "stdout",
     "output_type": "stream",
     "text": [
      "2024-04-08 19:28:06.503105\n"
     ]
    }
   ],
   "source": [
    "from datetime import datetime\n",
    "\n",
    "current_datetime = datetime.now()\n",
    "print(current_datetime)"
   ]
  },
  {
   "cell_type": "code",
   "execution_count": 24,
   "id": "724ad461",
   "metadata": {},
   "outputs": [],
   "source": [
    "import time"
   ]
  },
  {
   "cell_type": "code",
   "execution_count": 29,
   "id": "bb4dd35f",
   "metadata": {},
   "outputs": [
    {
     "name": "stdout",
     "output_type": "stream",
     "text": [
      "Hello world!\n",
      "Hello world!\n"
     ]
    }
   ],
   "source": [
    "print(\"Hello world!\")\n",
    "time.sleep(2)\n",
    "print(\"Hello world!\")\n"
   ]
  },
  {
   "cell_type": "code",
   "execution_count": 34,
   "id": "15568124",
   "metadata": {},
   "outputs": [],
   "source": [
    "#!pip install qrcode[pil]\n",
    "\n",
    "import qrcode\n",
    "\n",
    "qr = qrcode.make(\"Prachi Dhaka\")\n",
    "\n",
    "qr.save(\"qr.jpg\")"
   ]
  },
  {
   "cell_type": "code",
   "execution_count": 35,
   "id": "5398a00f",
   "metadata": {},
   "outputs": [
    {
     "data": {
      "image/png": "[encoded data removed]",
      "text/plain": [
       "<qrcode.image.pil.PilImage at 0x2315486f7d0>"
      ]
     },
     "execution_count": 35,
     "metadata": {},
     "output_type": "execute_result"
    }
   ],
   "source": [
    "qr"
   ]
  },
  {
   "cell_type": "code",
   "execution_count": null,
   "id": "92820b73",
   "metadata": {},
   "outputs": [],
   "source": []
  },
  {
   "cell_type": "code",
   "execution_count": null,
   "id": "adabee29",
   "metadata": {},
   "outputs": [],
   "source": []
  },
  {
   "cell_type": "code",
   "execution_count": null,
   "id": "ba11619a",
   "metadata": {},
   "outputs": [],
   "source": []
  }
 ],
 "metadata": {
  "kernelspec": {
   "display_name": "Python 3 (ipykernel)",
   "language": "python",
   "name": "python3"
  },
  "language_info": {
   "codemirror_mode": {
    "name": "ipython",
    "version": 3
   },
   "file_extension": ".py",
   "mimetype": "text/x-python",
   "name": "python",
   "nbconvert_exporter": "python",
   "pygments_lexer": "ipython3",
   "version": "3.11.3"
  }
 },
 "nbformat": 4,
 "nbformat_minor": 5
}
