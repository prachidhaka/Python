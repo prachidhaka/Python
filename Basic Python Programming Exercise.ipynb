{
 "cells": [
  {
   "cell_type": "markdown",
   "metadata": {},
   "source": [
    "## Python Basic Programming Exercises"
   ]
  },
  {
   "cell_type": "raw",
   "metadata": {},
   "source": [
    "Q1: What is the output of following expression\n",
    "    5 + 4 * 9 % (3 + 1) / 6 - 1"
   ]
  },
  {
   "cell_type": "code",
   "execution_count": 2,
   "metadata": {},
   "outputs": [
    {
     "name": "stdout",
     "output_type": "stream",
     "text": [
      "4.0\n"
     ]
    }
   ],
   "source": [
    "print(5 + 4 * 9 % (3 + 1) / 6 - 1)"
   ]
  },
  {
   "cell_type": "raw",
   "metadata": {},
   "source": [
    "Q2: Write a program to check if a Number is Odd or Even. Take number as a input from user at runtime."
   ]
  },
  {
   "cell_type": "code",
   "execution_count": 2,
   "metadata": {},
   "outputs": [
    {
     "name": "stdout",
     "output_type": "stream",
     "text": [
      "Enter number:56\n",
      "even\n"
     ]
    }
   ],
   "source": [
    "\n",
    "num = int(input(\"Enter number:\"))\n",
    "\n",
    "b = lambda x :\"even\" if x % 2==0 else \"odd\"\n",
    "    \n",
    "print(b(num))    "
   ]
  },
  {
   "cell_type": "code",
   "execution_count": 6,
   "metadata": {},
   "outputs": [
    {
     "name": "stdout",
     "output_type": "stream",
     "text": [
      "[False, True, False, True, False]\n"
     ]
    }
   ],
   "source": [
    "a = [1,2,3,4,5]\n",
    "\n",
    "x = list(map(lambda x:x%2==0,a))\n",
    "\n",
    "print(x)"
   ]
  },
  {
   "cell_type": "code",
   "execution_count": 19,
   "metadata": {
    "scrolled": true
   },
   "outputs": [
    {
     "name": "stdout",
     "output_type": "stream",
     "text": [
      "Enter number:6\n",
      "The number is even\n"
     ]
    }
   ],
   "source": [
    "def odd_even(num):\n",
    "    if num % 2 == 0:\n",
    "        return \"even\"\n",
    "    else:\n",
    "        return \"odd\"\n",
    "    \n",
    "\n",
    "num = int(input(\"Enter number:\"))\n",
    "\n",
    "print(\"The number is\",odd_even(num))"
   ]
  },
  {
   "cell_type": "code",
   "execution_count": 18,
   "metadata": {},
   "outputs": [
    {
     "name": "stdout",
     "output_type": "stream",
     "text": [
      "Enter a number: 7\n",
      "The number is odd\n"
     ]
    }
   ],
   "source": [
    "#Another way \n",
    "def odd_even(num):\n",
    "    return \"even\" if num % 2 == 0 else \"odd\"\n",
    "\n",
    "num = int(input(\"Enter a number: \"))\n",
    "result = odd_even(num)\n",
    "print(\"The number is\", result)\n"
   ]
  },
  {
   "cell_type": "raw",
   "metadata": {},
   "source": [
    "Q3: Write a program to display the multiplication table by taking a number as input. \n",
    "    [Hint : Use print statement inside of a loop]"
   ]
  },
  {
   "cell_type": "code",
   "execution_count": 21,
   "metadata": {},
   "outputs": [
    {
     "name": "stdout",
     "output_type": "stream",
     "text": [
      "enter a number :5\n",
      "5 x 1 = 5\n",
      "5 x 2 = 10\n",
      "5 x 3 = 15\n",
      "5 x 4 = 20\n",
      "5 x 5 = 25\n",
      "5 x 6 = 30\n",
      "5 x 7 = 35\n",
      "5 x 8 = 40\n",
      "5 x 9 = 45\n",
      "5 x 10 = 50\n"
     ]
    }
   ],
   "source": [
    "num = int(input(\"enter a number :\"))\n",
    "\n",
    "def multiplication_table(num):\n",
    "    for  i in range (1,11):\n",
    "        print (num,\"x\",i,\"=\",i*num)\n",
    "        \n",
    "multiplication_table(num)"
   ]
  },
  {
   "cell_type": "code",
   "execution_count": 18,
   "metadata": {
    "scrolled": true
   },
   "outputs": [
    {
     "name": "stdout",
     "output_type": "stream",
     "text": [
      "enter a number :2024\n",
      "2024 * 1 = 2024\n",
      "2024 * 2 = 4048\n",
      "2024 * 3 = 6072\n",
      "2024 * 4 = 8096\n",
      "2024 * 5 = 10120\n",
      "2024 * 6 = 12144\n",
      "2024 * 7 = 14168\n",
      "2024 * 8 = 16192\n",
      "2024 * 9 = 18216\n",
      "2024 * 10 = 20240\n"
     ]
    }
   ],
   "source": [
    "number = int(input(\"enter a number :\"))\n",
    "\n",
    "i= 1 #initialization\n",
    "\n",
    "while i <11: # condition\n",
    "    print (number ,\"*\",i,\"=\", number *i)\n",
    "    i+=1 #update \n",
    "    "
   ]
  },
  {
   "cell_type": "code",
   "execution_count": null,
   "metadata": {},
   "outputs": [],
   "source": []
  },
  {
   "cell_type": "raw",
   "metadata": {},
   "source": [
    "Q4: Write a program which will find all numbers between 2000 and 3200 which are divisible by 7 \n",
    "    but are not a multiple of 5.\n",
    " \n",
    "Note: The numbers obtained should be printed in a comma-separated sequence on a single line."
   ]
  },
  {
   "cell_type": "raw",
   "metadata": {},
   "source": [
    "find all the numbers between 2000 and 3200\n",
    "and divisible by 7\n",
    "but not a multiple of 5\n",
    "\n",
    "printed in a comma seprated sequence on a single line "
   ]
  },
  {
   "cell_type": "code",
   "execution_count": 23,
   "metadata": {},
   "outputs": [
    {
     "name": "stdout",
     "output_type": "stream",
     "text": [
      "[2002, 2009, 2016, 2023, 2037, 2044, 2051, 2058, 2072, 2079, 2086, 2093, 2107, 2114, 2121, 2128, 2142, 2149, 2156, 2163, 2177, 2184, 2191, 2198, 2212, 2219, 2226, 2233, 2247, 2254, 2261, 2268, 2282, 2289, 2296, 2303, 2317, 2324, 2331, 2338, 2352, 2359, 2366, 2373, 2387, 2394, 2401, 2408, 2422, 2429, 2436, 2443, 2457, 2464, 2471, 2478, 2492, 2499, 2506, 2513, 2527, 2534, 2541, 2548, 2562, 2569, 2576, 2583, 2597, 2604, 2611, 2618, 2632, 2639, 2646, 2653, 2667, 2674, 2681, 2688, 2702, 2709, 2716, 2723, 2737, 2744, 2751, 2758, 2772, 2779, 2786, 2793, 2807, 2814, 2821, 2828, 2842, 2849, 2856, 2863, 2877, 2884, 2891, 2898, 2912, 2919, 2926, 2933, 2947, 2954, 2961, 2968, 2982, 2989, 2996, 3003, 3017, 3024, 3031, 3038, 3052, 3059, 3066, 3073, 3087, 3094, 3101, 3108, 3122, 3129, 3136, 3143, 3157, 3164, 3171, 3178, 3192, 3199]\n",
      "Total numbers found: 138\n"
     ]
    }
   ],
   "source": [
    "list=[]\n",
    "for i in range (2000,3201):\n",
    "    if i%7==0 and i%5!=0:\n",
    "        list.append(i)\n",
    "print(list)\n",
    "\n",
    "print(\"Total numbers found:\",len(list))"
   ]
  },
  {
   "cell_type": "code",
   "execution_count": 27,
   "metadata": {},
   "outputs": [
    {
     "name": "stdout",
     "output_type": "stream",
     "text": [
      "[2002, 2009, 2016, 2023, 2037, 2044, 2051, 2058, 2072, 2079, 2086, 2093, 2107, 2114, 2121, 2128, 2142, 2149, 2156, 2163, 2177, 2184, 2191, 2198, 2212, 2219, 2226, 2233, 2247, 2254, 2261, 2268, 2282, 2289, 2296, 2303, 2317, 2324, 2331, 2338, 2352, 2359, 2366, 2373, 2387, 2394, 2401, 2408, 2422, 2429, 2436, 2443, 2457, 2464, 2471, 2478, 2492, 2499, 2506, 2513, 2527, 2534, 2541, 2548, 2562, 2569, 2576, 2583, 2597, 2604, 2611, 2618, 2632, 2639, 2646, 2653, 2667, 2674, 2681, 2688, 2702, 2709, 2716, 2723, 2737, 2744, 2751, 2758, 2772, 2779, 2786, 2793, 2807, 2814, 2821, 2828, 2842, 2849, 2856, 2863, 2877, 2884, 2891, 2898, 2912, 2919, 2926, 2933, 2947, 2954, 2961, 2968, 2982, 2989, 2996, 3003, 3017, 3024, 3031, 3038, 3052, 3059, 3066, 3073, 3087, 3094, 3101, 3108, 3122, 3129, 3136, 3143, 3157, 3164, 3171, 3178, 3192, 3199]\n",
      "Total numbers found: 138\n"
     ]
    }
   ],
   "source": [
    "#another way \n",
    "start = 2000\n",
    "end = 3200\n",
    "\n",
    "divisible_number = []\n",
    "\n",
    "for num in range (start ,end+1):\n",
    "    if num % 7 ==0 and num %5 !=0:\n",
    "        divisible_number.append(num)\n",
    "        \n",
    "print(divisible_number)\n",
    "        \n",
    "\n",
    "print(\"Total numbers found:\",len(divisible_number))"
   ]
  },
  {
   "cell_type": "raw",
   "metadata": {},
   "source": [
    "Q5: Count the elements of each datatype inside the list and display in output\n",
    "    [2, 3, 'Py', '10', 1, 'SQL', 5.5, True, 3, 'John', None, 7]    "
   ]
  },
  {
   "cell_type": "code",
   "execution_count": 133,
   "metadata": {},
   "outputs": [
    {
     "name": "stdout",
     "output_type": "stream",
     "text": [
      "12\n"
     ]
    }
   ],
   "source": [
    "\n",
    "List = [2, 3, 'Py', '10', 1, 'SQL', 5.5, True, 3, 'John', None, 7]  \n",
    "print(len(List))"
   ]
  },
  {
   "cell_type": "code",
   "execution_count": 132,
   "metadata": {},
   "outputs": [
    {
     "name": "stdout",
     "output_type": "stream",
     "text": [
      "{<class 'int'>: 5, <class 'str'>: 4, <class 'float'>: 1, <class 'bool'>: 1, <class 'NoneType'>: 1}\n"
     ]
    }
   ],
   "source": [
    "List = [2, 3, 'Py', '10', 1, 'SQL', 5.5, True, 3, 'John', None, 7]  \n",
    "\n",
    "data_type_counts = {}# create empty dictionary \n",
    "\n",
    "for element in List :\n",
    "    data_type = type(element)# Get the data type of the current element\n",
    "\n",
    "    if data_type in data_type_counts: # If the data type already exists in the dictionary, increment its count\n",
    "        data_type_counts[data_type] +=1\n",
    "        \n",
    "    else:\n",
    "        data_type_counts[data_type] = 1# otherwise count as 1\n",
    "    \n",
    "print(data_type_counts)"
   ]
  },
  {
   "cell_type": "code",
   "execution_count": 34,
   "metadata": {},
   "outputs": [
    {
     "name": "stdout",
     "output_type": "stream",
     "text": [
      "[2, 3, 1, 3, 7]\n"
     ]
    }
   ],
   "source": [
    "data = [2, 3, 'Py', '10', 1, 'SQL', 5.5, True, 3, 'John', None, 7]\n",
    "\n",
    "sum = 0\n",
    "numeric = []\n",
    "\n",
    "for i in data:\n",
    "    if isinstance(i,int) and not isinstance (i,bool):\n",
    "        sum = sum+i\n",
    "        numeric.append(i)\n",
    "        \n",
    "        \n",
    "print(numeric)"
   ]
  },
  {
   "cell_type": "raw",
   "metadata": {},
   "source": [
    "Q6: Add all values from the list with numeric datatypes \n",
    "    [2, 3, 'Py', '10', 1, 'SQL', 5.5, True, 3, 'John', None, 7] "
   ]
  },
  {
   "cell_type": "code",
   "execution_count": 152,
   "metadata": {},
   "outputs": [
    {
     "name": "stdout",
     "output_type": "stream",
     "text": [
      "[2, 3, 1, 5.5, True, 3, 7]\n"
     ]
    }
   ],
   "source": [
    "data = [2, 3, 'Py', '10', 1, 'SQL', 5.5, True, 3, 'John', None, 7]\n",
    "\n",
    "# Create an empty list to store numeric data\n",
    "numeric_data = []\n",
    "\n",
    "# Loop through each element\n",
    "for element in data:\n",
    "  # Check if it's a number (integer or float)\n",
    "  if isinstance(element, (int, float)):\n",
    "    # If it is, add it to the numeric_data list\n",
    "    numeric_data.append(element)\n",
    "\n",
    "print(numeric_data)\n"
   ]
  },
  {
   "cell_type": "code",
   "execution_count": null,
   "metadata": {},
   "outputs": [],
   "source": []
  },
  {
   "cell_type": "raw",
   "metadata": {},
   "source": [
    "Q7: Concat all str datatypes with hyphen as a delimiter\n",
    "    [2, 3, 'Py', '10', 1, 'SQL', 5.5, True, 3, 'John', None, 7] "
   ]
  },
  {
   "cell_type": "code",
   "execution_count": 52,
   "metadata": {},
   "outputs": [
    {
     "name": "stdout",
     "output_type": "stream",
     "text": [
      "Py-10-SQL-John\n"
     ]
    }
   ],
   "source": [
    "data = [2, 3, 'Py', '10', 1, 'SQL', 5.5, True, 3, 'John', None, 7]\n",
    "\n",
    "str_data_type = []\n",
    "\n",
    "for i in data:\n",
    "    if isinstance(i,str) :\n",
    "        str_data_type.append(str(i))\n",
    "        \n",
    "        \n",
    "print(\"-\".join(str_data_type))\n"
   ]
  },
  {
   "cell_type": "raw",
   "metadata": {},
   "source": [
    "Q8: Write a UDF that takes list as input and returns sum of all numbers \n",
    "    (exclude bool) and count of all str \n",
    "    [2, 3, 'Py', '10', 1, 'SQL', 5.5, True, 3, 'John', None, 7] \n",
    "    \n",
    "Hint:\n",
    "-----\n",
    "def my_func:\n",
    "    # your code\n",
    "        \n",
    "my_func(l1)\n",
    "# output --> {'Sum': xxx, 'Count_of_Strs': xxx}"
   ]
  },
  {
   "cell_type": "code",
   "execution_count": 20,
   "metadata": {},
   "outputs": [
    {
     "name": "stdout",
     "output_type": "stream",
     "text": [
      "{'Sum': 22.5, 'Count_of_Strs': 4}\n"
     ]
    }
   ],
   "source": [
    "#sum of all the numbers(int, float) , exclude bool value (T/F)\n",
    "#and \n",
    "#count all the string \n",
    "\n",
    "def func(lst):\n",
    "    total_numbers = 0\n",
    "    count_string  = 0\n",
    "    \n",
    "    for item in lst:\n",
    "        if isinstance(item , int) or isinstance(item,float):\n",
    "            total_numbers += item\n",
    "        elif isinstance(item, str):\n",
    "            count_string +=1\n",
    "     \n",
    "    return {'Sum': total_numbers, 'Count_of_Strs': count_string }\n",
    "        \n",
    "L1 = [2, 3, 'Py', '10', 1, 'SQL', 5.5, True, 3, 'John', None, 7] \n",
    "\n",
    "\n",
    "print(func(L1))"
   ]
  },
  {
   "cell_type": "raw",
   "metadata": {},
   "source": [
    "Q9: Get only odd numbers from the following list and store the numbers in new list\n",
    "    li = [5, 7, 22, 97, 54, 62, 77, 23, 73, 61]\n",
    "\n",
    "    i. Use loops to get the answer\n",
    "   ii. Use list comprehensions\n",
    "  iii. Use lambda function with filter"
   ]
  },
  {
   "cell_type": "code",
   "execution_count": 46,
   "metadata": {},
   "outputs": [
    {
     "name": "stdout",
     "output_type": "stream",
     "text": [
      "[5, 7, 97, 77, 23, 73, 61]\n"
     ]
    }
   ],
   "source": [
    "# i. Use loops to get the answer\n",
    "\n",
    "li = [5, 7, 22, 97, 54, 62, 77, 23, 73, 61]\n",
    "\n",
    "odd_num_list = []\n",
    "\n",
    "for num in li :\n",
    "    if num %2 !=0:\n",
    "        odd_num_list.append(num)\n",
    "\n",
    "        \n",
    "print(odd_num_list)\n",
    "\n"
   ]
  },
  {
   "cell_type": "code",
   "execution_count": 47,
   "metadata": {},
   "outputs": [
    {
     "name": "stdout",
     "output_type": "stream",
     "text": [
      "[5, 7, 97, 77, 23, 73, 61]\n"
     ]
    }
   ],
   "source": [
    "#  ii. Use list comprehensions\n",
    "li = [5, 7, 22, 97, 54, 62, 77, 23, 73, 61]\n",
    "\n",
    "odd_num_list = [num for num in li if num %2 != 0 ]\n",
    "\n",
    "print(odd_num_list)\n"
   ]
  },
  {
   "cell_type": "code",
   "execution_count": 13,
   "metadata": {},
   "outputs": [
    {
     "name": "stdout",
     "output_type": "stream",
     "text": [
      "[5, 7, 97, 77, 23, 73, 61]\n"
     ]
    }
   ],
   "source": [
    "\n",
    "li = [5, 7, 22, 97, 54, 62, 77, 23, 73, 61]\n",
    "\n",
    "# Use lambda function with filter\n",
    "odd_numbers = list(filter(lambda x: x % 2 != 0, li))\n",
    "\n",
    "print(odd_numbers)"
   ]
  },
  {
   "cell_type": "raw",
   "metadata": {},
   "source": [
    "Q10: Write a UDF to return the descriptives [sum, count, min, mean, max] for a list of n number of input \n",
    "    numbers."
   ]
  },
  {
   "cell_type": "raw",
   "metadata": {},
   "source": [
    "# here we can also use :\n",
    "        builtin_funcs = __builtins__\n",
    "        total_sum = builtin_funcs.sum(numbers)\n"
   ]
  },
  {
   "cell_type": "code",
   "execution_count": 26,
   "metadata": {},
   "outputs": [
    {
     "name": "stdout",
     "output_type": "stream",
     "text": [
      "sum: 28 , count: 5 , min: 2 , mean: 5.6 , max: 10\n"
     ]
    }
   ],
   "source": [
    "def descriptive_summary(x):\n",
    "  \n",
    "    total_sum = sum(x)\n",
    "    count = len(x)\n",
    "    min_value = min(x)\n",
    "    mean = total_sum / count\n",
    "    max_value = max(x)\n",
    "\n",
    "  # Return the calculated values as a list\n",
    "    return [total_sum, count, min_value, mean, max_value]\n",
    "\n",
    "x = [2, 3, 5, 8, 10]\n",
    "\n",
    "# Call the function and print the results\n",
    "\n",
    "descriptive_stats = descriptive_summary(x)\n",
    "\n",
    "print(\"sum:\", descriptive_stats[0], \",\",\n",
    "      \"count:\", descriptive_stats[1], \",\",\n",
    "      \"min:\", descriptive_stats[2], \",\",\n",
    "      \"mean:\", descriptive_stats[3], \",\",\n",
    "      \"max:\", descriptive_stats[4])"
   ]
  },
  {
   "cell_type": "code",
   "execution_count": 63,
   "metadata": {},
   "outputs": [
    {
     "name": "stdout",
     "output_type": "stream",
     "text": [
      "{'Sum': 28, 'Count': 5, 'Min': 2, 'Mean': 5.6, 'Max': 10}\n"
     ]
    }
   ],
   "source": [
    "def calculate_descriptives(numbers):\n",
    "    if not numbers:\n",
    "        return None\n",
    "    \n",
    "    total_sum = __builtins__.sum(numbers)#total_sum: This line calculates the sum of all the elements in the numbers list using the built-in sum function.\n",
    "    count = len(numbers)\n",
    "    minimum = min(numbers)\n",
    "    maximum = max(numbers)\n",
    "    mean = total_sum / count\n",
    "    \n",
    "    return {'Sum': total_sum, 'Count': count, 'Min': minimum, 'Mean': mean, 'Max': maximum}\n",
    "\n",
    "# Test the function\n",
    "input_numbers = [2, 3, 5, 8, 10]\n",
    "print(calculate_descriptives(input_numbers))\n",
    "\n"
   ]
  },
  {
   "cell_type": "code",
   "execution_count": 59,
   "metadata": {},
   "outputs": [
    {
     "name": "stdout",
     "output_type": "stream",
     "text": [
      "{'Sum': 28.0, 'Count': 5, 'Min': 2.0, 'Mean': 5.6, 'Max': 10.0}\n"
     ]
    }
   ],
   "source": [
    "import numpy as np\n",
    "\n",
    "def calculate_descriptives(numbers):\n",
    "    if not numbers:\n",
    "        return None\n",
    "    \n",
    "    numbers_array = np.array(numbers).astype(float)\n",
    "    total_sum = np.sum(numbers_array)\n",
    "    count = len(numbers_array)\n",
    "    minimum = np.min(numbers_array)\n",
    "    maximum = np.max(numbers_array)\n",
    "    mean = np.mean(numbers_array)\n",
    "    \n",
    "    return {'Sum': total_sum, 'Count': count, 'Min': minimum, 'Mean': mean, 'Max': maximum}\n",
    "\n",
    "# Test the function\n",
    "input_numbers = [2, 3, 5, 8, 10]\n",
    "print(calculate_descriptives(input_numbers))\n"
   ]
  },
  {
   "cell_type": "raw",
   "metadata": {},
   "source": [
    "Q11: Write an udf to calculate the area of different shapes\n",
    "\n",
    "Take shape and dimensions as arguments to udf as follows : \n",
    "\n",
    "1. square which has side\n",
    "2. rectangle which has length and width\n",
    "3. circle which has radius\n",
    "\n",
    "The shape should be a positional argument and it's dimensions are taken as kwargs\n",
    "\n",
    "Perform proper validation for the user inputs and then calculate area.\n",
    "\n",
    "E.g. if shape is square, ensure kwargs has \"side\" and if so, then you may return the area, else display appropriate error message like \"Please enter 'side' for a square\""
   ]
  },
  {
   "cell_type": "code",
   "execution_count": 26,
   "metadata": {},
   "outputs": [
    {
     "name": "stdout",
     "output_type": "stream",
     "text": [
      "Enter the shape you want to find the area for: square\n",
      "Shape: square\n",
      "Enter the size of side: 45\n",
      "Area: 2025\n"
     ]
    }
   ],
   "source": [
    "name = input(\"Enter the shape you want to find the area for: \")\n",
    "\n",
    "def area(shape):\n",
    "    shape = shape.lower()\n",
    "    \n",
    "    if shape == \"square\":\n",
    "        side = int(input(\"Enter the size of side: \"))\n",
    "        area_of_square = side * side\n",
    "        return area_of_square\n",
    "    elif shape == \"circle\":\n",
    "        radius = int(input(\"Enter radius of circle: \"))\n",
    "        pi = 3.14\n",
    "        area_circle = pi * radius * radius\n",
    "        return area_circle\n",
    "    elif shape == \"rectangle\":\n",
    "        length = int(input(\"Enter length of rectangle: \"))\n",
    "        width = int(input(\"Enter width of rectangle: \"))\n",
    "        area_of_rectangle = length * width\n",
    "        return area_of_rectangle\n",
    "    else:\n",
    "        return \"Invalid shape entered.\"\n",
    "\n",
    "print(\"Shape:\", name)\n",
    "print(\"Area:\", area(name))\n"
   ]
  },
  {
   "cell_type": "code",
   "execution_count": 44,
   "metadata": {},
   "outputs": [
    {
     "name": "stdout",
     "output_type": "stream",
     "text": [
      "Area of square: 25\n",
      "Area of rectangle: 24\n",
      "Area of circle: 28.274333882308138\n"
     ]
    }
   ],
   "source": [
    "import math\n",
    "\n",
    "def calculate_area(shape, **kwargs):\n",
    "    if shape == \"square\":\n",
    "        return kwargs[\"side\"] ** 2\n",
    "    elif shape == \"rectangle\":\n",
    "        return kwargs[\"length\"] * kwargs[\"width\"]\n",
    "    elif shape == \"circle\":\n",
    "        return math.pi * kwargs[\"radius\"] ** 2\n",
    "    else:\n",
    "        raise ValueError(\"Invalid shape provided.\")\n",
    "\n",
    "# Example usage:\n",
    "area_square = calculate_area(shape=\"square\", side=5)\n",
    "area_rectangle = calculate_area(shape=\"rectangle\", length=4, width=6)\n",
    "area_circle = calculate_area(shape=\"circle\", radius=3)\n",
    "\n",
    "print(\"Area of square:\", area_square)\n",
    "print(\"Area of rectangle:\", area_rectangle)\n",
    "print(\"Area of circle:\", area_circle)\n"
   ]
  },
  {
   "cell_type": "raw",
   "metadata": {},
   "source": [
    "Q12: Write a UDF to reconcile the values within two lists.\n",
    "    l1 = ['January', 'February', 'March', 'May', 'June', 'September', 'December']\n",
    "    l2 = ['January', 'February', 'April', 'June', 'October', 'December']\n",
    "\n",
    "Hint:\n",
    "-----\n",
    "def func(l1, l2):\n",
    "    your code here...\n",
    "    \n",
    "Output:\n",
    "{'Matched': ['January', 'February', 'June', 'December'],\n",
    "    'Only in l1': ['March', 'May', 'September'],\n",
    "        'Only in l2': ['April', 'October']}"
   ]
  },
  {
   "cell_type": "code",
   "execution_count": 56,
   "metadata": {},
   "outputs": [
    {
     "name": "stdout",
     "output_type": "stream",
     "text": [
      "{'Matched': ['January', 'February', 'June', 'December'], 'Only in l1': ['March', 'May', 'September'], 'Only in l2': ['April', 'October']}\n"
     ]
    }
   ],
   "source": [
    "l1 = ['January', 'February', 'March', 'May', 'June', 'September', 'December']\n",
    "l2 = ['January', 'February', 'April', 'June', 'October', 'December']\n",
    "\n",
    "\n",
    "def month(l1,l2):\n",
    "    \n",
    "    matched = []\n",
    "    only_l1 = []\n",
    "    only_l2 = []\n",
    "\n",
    "    for item in l1:\n",
    "        if item in l2:#If the element is present in l2, append it to the matched list.\n",
    "            matched.append(item)\n",
    "        else:\n",
    "            only_l1.append(item)\n",
    "    for item in l2:\n",
    "        if item not in l1:#If the element is not present in l2, append it to the only_in_l1 list.\n",
    "            only_l2.append(item)\n",
    "\n",
    "    return {'Matched': matched, 'Only in l1': only_l1, 'Only in l2': only_l2}\n",
    "\n",
    "\n",
    "print(month(l1, l2))     \n",
    "\n",
    "\n",
    "        "
   ]
  },
  {
   "cell_type": "code",
   "execution_count": 48,
   "metadata": {},
   "outputs": [],
   "source": []
  },
  {
   "cell_type": "raw",
   "metadata": {
    "collapsed": true
   },
   "source": [
    "Q13: write a UDF to check if a number is prime or not."
   ]
  },
  {
   "cell_type": "code",
   "execution_count": 67,
   "metadata": {},
   "outputs": [
    {
     "name": "stdout",
     "output_type": "stream",
     "text": [
      "Enter a number: 7\n",
      "It is a prime number\n"
     ]
    }
   ],
   "source": [
    "num = int(input(\"Enter a number: \"))\n",
    "\n",
    "if num > 1:\n",
    "    for i in range(2, num):\n",
    "        if (num % i) == 0:\n",
    "            print(\"It is not a prime number\")\n",
    "            break\n",
    "    else:\n",
    "        print(\"It is a prime number\")\n",
    "else:\n",
    "    print(\"It is not a prime number\")\n"
   ]
  },
  {
   "cell_type": "code",
   "execution_count": 72,
   "metadata": {},
   "outputs": [
    {
     "name": "stdout",
     "output_type": "stream",
     "text": [
      "Enter a number: 7\n",
      "7 is prime: True\n"
     ]
    }
   ],
   "source": [
    "# Making a function now \n",
    "\n",
    "def is_prime(n):\n",
    "    if n <= 1:\n",
    "        return False  # Numbers less than or equal to 1 are not prime\n",
    "\n",
    "    for i in range(2, int(n**0.5) + 1):# Check for factors from 2 to the square root of n\n",
    "        if n % i == 0:\n",
    "            return False  # Found a factor other than 1 and n, so it's not prime\n",
    "\n",
    "    return True  # No factors other than 1 and n, so it's prime\n",
    "\n",
    "\n",
    "number = int(input(\"Enter a number: \"))\n",
    "print(f\"{number} is prime: {is_prime(number)}\")\n",
    "\n"
   ]
  },
  {
   "cell_type": "code",
   "execution_count": 62,
   "metadata": {},
   "outputs": [
    {
     "name": "stdout",
     "output_type": "stream",
     "text": [
      "Enter a number: 5\n",
      "It is a prime number\n"
     ]
    }
   ],
   "source": [
    "#Additionaly :\n",
    "\n",
    "num = int(input(\"Enter a number: \"))\n",
    "\n",
    "if num > 1 and all(num % i != 0 for i in range(2, int(num**0.5) + 1)):\n",
    "    print(\"It is a prime number\")\n",
    "else:\n",
    "    print(\"It is not a prime number\")\n"
   ]
  },
  {
   "cell_type": "raw",
   "metadata": {
    "collapsed": true
   },
   "source": [
    "Q14. Write a program which can compute the factorial of a given numbers. \n",
    "#   The results should be printed in a comma-separated sequence on a single line. \n",
    "# input() function can be used for getting user(console) input\n",
    "\n",
    "\n",
    "#Suppose the input is supplied to the program:  8  \n",
    "#Then, the output should be:  40320 \n",
    "#Hints: In case of input data being supplied to the question, it should be assumed to be a console input. \n"
   ]
  },
  {
   "cell_type": "code",
   "execution_count": 74,
   "metadata": {},
   "outputs": [
    {
     "name": "stdout",
     "output_type": "stream",
     "text": [
      "factorial value : 40320\n"
     ]
    }
   ],
   "source": [
    "n = 8\n",
    "\n",
    "\n",
    "fact = 1\n",
    "i = 1\n",
    "\n",
    "for i in range(1,n+1):\n",
    "    fact*=i\n",
    "print(\"factorial value :\",fact)\n"
   ]
  },
  {
   "cell_type": "code",
   "execution_count": 85,
   "metadata": {},
   "outputs": [
    {
     "name": "stdout",
     "output_type": "stream",
     "text": [
      "Enter number :28\n",
      "Factorial of  28 is: 304888344611713860501504000000\n"
     ]
    }
   ],
   "source": [
    "#making function:\n",
    "\n",
    "def fac(n):                                                    \n",
    "    if n == 0: # the factorial of 0 is defined to be 1   \n",
    "        return 1\n",
    "    else:\n",
    "        return n * fac(n-1)\n",
    "\n",
    "n = int(input(\"Enter number :\"))    \n",
    "num = fac(n)\n",
    "print(\"Factorial of \",n ,\"is:\", num)"
   ]
  },
  {
   "cell_type": "code",
   "execution_count": null,
   "metadata": {},
   "outputs": [],
   "source": []
  },
  {
   "cell_type": "raw",
   "metadata": {
    "collapsed": true
   },
   "source": [
    "Q15. With a given integral number n, write a program to generate a dictionary that contains (i, i*i) such that is an integral number between 1 and n (both included). and then the program should print the dictionary.\n",
    "\n",
    "#Suppose the following input is supplied to the program: 8\n",
    "#Then, the output should be: {1: 1, 2: 4, 3: 9, 4: 16, 5: 25, 6: 36, 7: 49, 8: 64}\n",
    "#Hints: In case of input data being supplied to the question, it should be assumed to be a console input. Consider using dict()\n",
    "\n"
   ]
  },
  {
   "cell_type": "code",
   "execution_count": 107,
   "metadata": {},
   "outputs": [
    {
     "name": "stdout",
     "output_type": "stream",
     "text": [
      "Enter a number 8\n",
      "1\n",
      "4\n",
      "9\n",
      "16\n",
      "25\n",
      "36\n",
      "49\n",
      "64\n"
     ]
    }
   ],
   "source": [
    "n = int(input(\"Enter a number \"))\n",
    "\n",
    "for i in range(1,n+1):\n",
    "    print(i*i)\n",
    "        \n"
   ]
  },
  {
   "cell_type": "code",
   "execution_count": 133,
   "metadata": {},
   "outputs": [
    {
     "name": "stdout",
     "output_type": "stream",
     "text": [
      "Enter a number: 8\n",
      "{1: 1, 2: 4, 3: 9, 4: 16, 5: 25, 6: 36, 7: 49, 8: 64}\n"
     ]
    }
   ],
   "source": [
    "# making the function \n",
    "\n",
    "def square_dict(n):\n",
    "    \n",
    "    result_dict = {}  # Create an empty dictionary to store the results\n",
    "    \n",
    "    for i in range(1, n + 1):  # Iterate over numbers from 1 to n\n",
    "        result_dict[i] = i * i  # Calculate i*i and store it in the dictionary\n",
    "    \n",
    "    return result_dict  # Return the resulting dictionary\n",
    "\n",
    "\n",
    "n = int(input(\"Enter a number: \"))\n",
    "\n",
    "print(square_dict(n))  # Print the dictionary generated by the function\n"
   ]
  },
  {
   "cell_type": "code",
   "execution_count": 139,
   "metadata": {},
   "outputs": [
    {
     "name": "stdout",
     "output_type": "stream",
     "text": [
      "Enter a number: 8\n",
      "Generated Dictionary: {1: 1, 2: 4, 3: 9, 4: 16, 5: 25, 6: 36, 7: 49, 8: 64}\n",
      "Enter the key you want to access: 5\n",
      "Value associated with key 5 : 25\n"
     ]
    }
   ],
   "source": [
    "# some modified way :\n",
    "\n",
    "def square_dict(n):\n",
    "    result_dict = {}  # Create an empty dictionary to store the results\n",
    "    for i in range(1, n + 1):  # Iterate over numbers from 1 to n\n",
    "        result_dict[i] = i * i  # Calculate i*i and store it in the dictionary\n",
    "    return result_dict  # Return the resulting dictionary\n",
    "\n",
    "n = int(input(\"Enter a number: \"))\n",
    "\n",
    "# Call the function to generate the dictionary\n",
    "generated_dict = square_dict(n)\n",
    "\n",
    "print(\"Generated Dictionary:\", generated_dict)\n",
    "\n",
    "# Prompt the user to enter the key they want to access\n",
    "key = int(input(\"Enter the key you want to access: \"))\n",
    "\n",
    "# Access the value associated with the entered key\n",
    "print(\"Value associated with key\", key, \":\", generated_dict.get(key, \"Key not found in the dictionary\"))\n"
   ]
  },
  {
   "cell_type": "raw",
   "metadata": {
    "collapsed": true
   },
   "source": [
    "Q16. Write a program which accepts a sequence of comma-separated numbers from console and generate a list and a tuple which contains every number.\n",
    "#Suppose the following input is supplied to the program: 34,67,55,33,12,98\n",
    "    #Then, the output should be: ['34', '67', '55', '33', '12', '98'] ('34', '67', '55', '33', '12', '98')\n",
    "\n",
    "#Hints: In case of input data being supplied to the question, it should be assumed to be a console input. you may use tuple() method to convert list to tuple\n"
   ]
  },
  {
   "cell_type": "code",
   "execution_count": 110,
   "metadata": {},
   "outputs": [
    {
     "name": "stdout",
     "output_type": "stream",
     "text": [
      "('34', '67', '55', '33', '12', '98')\n"
     ]
    }
   ],
   "source": [
    "my_list = ['34', '67', '55', '33', '12', '98']\n",
    "my_tuple = tuple(my_list)\n",
    "print(my_tuple)\n"
   ]
  },
  {
   "cell_type": "code",
   "execution_count": 127,
   "metadata": {},
   "outputs": [
    {
     "name": "stdout",
     "output_type": "stream",
     "text": [
      "Enter a sequence of comma-separated numbers: '34', '67', '55', '33', '12', '98'\n",
      "my_list:  -> [\"'34'\", \" '67'\", \" '55'\", \" '33'\", \" '12'\", \" '98'\"]\n",
      "\n",
      "my_tuple:  -> (\"'34'\", \" '67'\", \" '55'\", \" '33'\", \" '12'\", \" '98'\")\n"
     ]
    }
   ],
   "source": [
    "numbers = input(\"Enter a sequence of comma-separated numbers: \")\n",
    "\n",
    "\n",
    "# Split the input string by commas to get individual numbers as strings\n",
    "numbers_list = numbers.split(',')\n",
    "\n",
    "# Convert the list of strings to a tuple\n",
    "numbers_tuple = tuple(numbers_list)\n",
    "\n",
    "# Print the list and tuple\n",
    "print(\"my_list:\",\" ->\",numbers_list ,end=\"\\n\\n\")\n",
    "\n",
    "\n",
    "print(\"my_tuple:\",\" ->\",numbers_tuple)\n"
   ]
  },
  {
   "cell_type": "raw",
   "metadata": {
    "collapsed": true
   },
   "source": [
    "Q17. Write a program that accepts a comma separated sequence of words as input and \n",
    "# prints the words in a comma-separated sequence after sorting them alphabetically.\n",
    "\n",
    "# Suppose the following input is supplied to the program: without,hello,bag,world\n",
    "# Then, the output should be: bag,hello,without,world\n",
    "\n",
    "#Hints: In case of input data being supplied to the question, it should be assumed to be a console input.\n"
   ]
  },
  {
   "cell_type": "code",
   "execution_count": 148,
   "metadata": {},
   "outputs": [
    {
     "data": {
      "text/plain": [
       "['bag', 'hello', 'without', 'world']"
      ]
     },
     "execution_count": 148,
     "metadata": {},
     "output_type": "execute_result"
    }
   ],
   "source": [
    "\n",
    "my_list = [\"without\",\"hello\",\"bag\",\"world\"]\n",
    "\n",
    "my_list.sort()\n",
    "\n",
    "my_list "
   ]
  },
  {
   "cell_type": "code",
   "execution_count": 149,
   "metadata": {},
   "outputs": [
    {
     "name": "stdout",
     "output_type": "stream",
     "text": [
      "Enter a comma-separated sequence of words: 'bag', 'hello', 'without', 'world'\n",
      " 'hello', 'without', 'world','bag'\n"
     ]
    }
   ],
   "source": [
    "input_string = input(\"Enter a comma-separated sequence of words: \")\n",
    "word_list = input_string.split(',')\n",
    "word_list.sort()\n",
    "print(','.join(word_list))\n"
   ]
  },
  {
   "cell_type": "raw",
   "metadata": {
    "collapsed": true
   },
   "source": [
    "Q18. Write a program that accepts a sequence of whitespace separated words (unique_alphanumeric)\n",
    "# as input and prints the words after removing all duplicate words and sorting them alphanumerically.\n",
    "# Suppose the following input is supplied to the program: \n",
    "hello world and practice makes perfect and hello world again\n",
    "# Then, the output should be: again and hello makes perfect practice world\n",
    "\n",
    "#Hints: In case of input data being supplied to the question, it should be assumed to be a console input.\n",
    "#We use set container to remove duplicated data automatically and then use sorted() to sort the data.\n"
   ]
  },
  {
   "cell_type": "code",
   "execution_count": 150,
   "metadata": {},
   "outputs": [
    {
     "name": "stdout",
     "output_type": "stream",
     "text": [
      "Enter a sequence of whitespace-separated words: hello world and practice makes perfect and hello world again\n",
      "again and hello makes perfect practice world\n"
     ]
    }
   ],
   "source": [
    "input_string = input(\"Enter a sequence of whitespace-separated words: \")\n",
    "words = input_string.split()  # Split the input string into individual words\n",
    "unique_words = sorted(set(words))  # Convert the list of words into a set to remove duplicates and then sort them\n",
    "print(\" \".join(unique_words))  # Print the sorted unique words separated by whitespace\n",
    "\n"
   ]
  },
  {
   "cell_type": "code",
   "execution_count": 151,
   "metadata": {},
   "outputs": [
    {
     "name": "stdout",
     "output_type": "stream",
     "text": [
      "Enter a sequence of whitespace-separated words: hello world and practice makes perfect and hello world again\n",
      "Output: again and hello makes perfect practice world\n"
     ]
    }
   ],
   "source": [
    "def remove_duplicates_and_sort(input_string):\n",
    "    words = input_string.split()  # Split the input string into individual words\n",
    "    unique_words = sorted(set(words))  # Convert the list of words into a set to remove duplicates and then sort them\n",
    "    return \" \".join(unique_words)  # Return the sorted unique words separated by whitespace\n",
    "\n",
    "# Accept input from the user\n",
    "input_string = input(\"Enter a sequence of whitespace-separated words: \")\n",
    "\n",
    "# Call the function to remove duplicates and sort the words\n",
    "result = remove_duplicates_and_sort(input_string)\n",
    "\n",
    "# Print the result\n",
    "print(\"Output:\", result)\n"
   ]
  },
  {
   "cell_type": "raw",
   "metadata": {
    "collapsed": true
   },
   "source": [
    "Q19. Write a program that accepts a sentence and calculate the number of\n",
    "upper case  letters and lower case letters.\n",
    "\n",
    "#Suppose the following input is supplied to the program: Hello world!\n",
    "#Then, the output should be: UPPER CASE 1 LOWER CASE 9\n",
    "\n",
    "#Hints: In case of input data being supplied to the question, it should be assumed to be a console input.\n",
    "\n",
    "#Console input is text data users type into a program through the command line.\n",
    "\n",
    "example :   name = input(\"What's your name? \")\n",
    "            print(\"Hello\", name + \"!\")"
   ]
  },
  {
   "cell_type": "code",
   "execution_count": 78,
   "metadata": {},
   "outputs": [
    {
     "name": "stdout",
     "output_type": "stream",
     "text": [
      "enter your string Hello world!\n",
      "No. of upper_case: 1 and No. of lower_case: 9\n"
     ]
    }
   ],
   "source": [
    "def check_lower_upper():\n",
    "    x = input(\"enter your string \")\n",
    "    \n",
    "    upper_count = 0\n",
    "    lower_count = 0\n",
    "    \n",
    "    for i in x:\n",
    "        if i.isupper():\n",
    "            upper_count+=1\n",
    "        elif i.islower():\n",
    "            lower_count+=1\n",
    "    print(\"No. of upper_case:\",upper_count,\"and\",\"No. of lower_case:\",lower_count)\n",
    "\n",
    "check_lower_upper()        "
   ]
  },
  {
   "cell_type": "code",
   "execution_count": null,
   "metadata": {},
   "outputs": [],
   "source": []
  },
  {
   "cell_type": "raw",
   "metadata": {
    "collapsed": true
   },
   "source": [
    "Q20. Write a program that takes a string and returns reversed string. i.e. if input is \"abcd123\" output should be \"321dcba\""
   ]
  },
  {
   "cell_type": "raw",
   "metadata": {},
   "source": [
    "example :\n",
    "string = input is \"abcd123\"\n",
    "then the reverse string should be this \"321dcba\"\n",
    "\n"
   ]
  },
  {
   "cell_type": "code",
   "execution_count": 71,
   "metadata": {},
   "outputs": [
    {
     "data": {
      "text/plain": [
       "'321dcba'"
      ]
     },
     "execution_count": 71,
     "metadata": {},
     "output_type": "execute_result"
    }
   ],
   "source": [
    "x = \"abcd123\"\n",
    "x[::-1]"
   ]
  },
  {
   "cell_type": "code",
   "execution_count": 76,
   "metadata": {},
   "outputs": [
    {
     "name": "stdout",
     "output_type": "stream",
     "text": [
      "enter a string:abcd123\n"
     ]
    },
    {
     "data": {
      "text/plain": [
       "'321dcba'"
      ]
     },
     "execution_count": 76,
     "metadata": {},
     "output_type": "execute_result"
    }
   ],
   "source": [
    "\n",
    "def reverse():\n",
    "    x = input(\"enter a string:\")\n",
    "    return x[::-1]\n",
    "\n",
    "reverse()"
   ]
  },
  {
   "cell_type": "code",
   "execution_count": null,
   "metadata": {},
   "outputs": [],
   "source": []
  },
  {
   "cell_type": "code",
   "execution_count": null,
   "metadata": {},
   "outputs": [],
   "source": []
  }
 ],
 "metadata": {
  "kernelspec": {
   "display_name": "Python 3 (ipykernel)",
   "language": "python",
   "name": "python3"
  },
  "language_info": {
   "codemirror_mode": {
    "name": "ipython",
    "version": 3
   },
   "file_extension": ".py",
   "mimetype": "text/x-python",
   "name": "python",
   "nbconvert_exporter": "python",
   "pygments_lexer": "ipython3",
   "version": "3.11.3"
  },
  "varInspector": {
   "cols": {
    "lenName": 16,
    "lenType": 16,
    "lenVar": 40
   },
   "kernels_config": {
    "python": {
     "delete_cmd_postfix": "",
     "delete_cmd_prefix": "del ",
     "library": "var_list.py",
     "varRefreshCmd": "print(var_dic_list())"
    },
    "r": {
     "delete_cmd_postfix": ") ",
     "delete_cmd_prefix": "rm(",
     "library": "var_list.r",
     "varRefreshCmd": "cat(var_dic_list()) "
    }
   },
   "types_to_exclude": [
    "module",
    "function",
    "builtin_function_or_method",
    "instance",
    "_Feature"
   ],
   "window_display": false
  }
 },
 "nbformat": 4,
 "nbformat_minor": 2
}
