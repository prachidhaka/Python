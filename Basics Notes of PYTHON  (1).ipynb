{
 "cells": [
  {
   "cell_type": "markdown",
   "id": "0650bc35",
   "metadata": {},
   "source": [
    "#                                                # PYTHON :"
   ]
  },
  {
   "cell_type": "raw",
   "id": "67d3ad5c",
   "metadata": {},
   "source": [
    "# Python are case sensitive language \n",
    "    - Upper case \n",
    "    - lower case \n",
    "matters here \n",
    "for example :APPLE ,\n",
    "             apple \n",
    "        both are different variables .\n",
    "       : another one when we write True or False \n",
    "       here first letter should be capital like that etc...\n",
    "       "
   ]
  },
  {
   "cell_type": "markdown",
   "id": "e4c82178",
   "metadata": {},
   "source": [
    "# Comments in Python:\n",
    "       - Single Line Comment :(#)\n",
    "\n",
    "       - Multi Line : (\"\"\" \"\"\")\n",
    "\n"
   ]
  },
  {
   "cell_type": "markdown",
   "id": "76a51a13",
   "metadata": {},
   "source": [
    "# Variables and data types:\n",
    "\n",
    "A variable is a name given to a memory location in a program.\n",
    "\n",
    "name = \"Prachi\"\n",
    "\n",
    "age = 23\n",
    "\n"
   ]
  },
  {
   "cell_type": "markdown",
   "id": "398a421e",
   "metadata": {},
   "source": [
    "# Data Types\n",
    "    - \n",
    "        Integers\n",
    "\n",
    "        String\n",
    "\n",
    "        Float\n",
    "\n",
    "        Boolean\n",
    "\n",
    "        None\n",
    "\n",
    "- Keywords\n",
    "\n",
    "    Keywords are reserved words in python."
   ]
  },
  {
   "cell_type": "markdown",
   "id": "5a6822e0",
   "metadata": {},
   "source": [
    "# identifiers\n",
    "\n",
    "#identifiers rules :\n",
    "           -  starts with: a-z OR A-Z \n",
    "           \n",
    "                     or  starts with (\"_\")\n",
    "                     \n",
    "                if you want to start with numbers you can't eg:(0-9)\n"
   ]
  },
  {
   "cell_type": "markdown",
   "id": "9ab98060",
   "metadata": {},
   "source": [
    "# operators:\n",
    "  \n",
    "An operator is a symbol that performs a certain operation between operands.\n",
    "\n",
    "#Types of Operators:\n",
    "        - Arithmetic Operators ( + , - ,* , / , % , ** )\n",
    "\n",
    "        - Relational / Comparison Operators ( == , != , > , < , >= , <= )\n",
    "\n",
    "        - Assignment Operators ( = , +=, -= ,*= , /= , %= ,**= )\n",
    "\n",
    "        - Logical Operators ( not , and , or )\n"
   ]
  },
  {
   "cell_type": "markdown",
   "id": "8deca7f8",
   "metadata": {},
   "source": [
    "# Input in Python:\n",
    "\n",
    "        input( ) statement is used to accept values (using keyboard) from user\n",
    "\n",
    "        input( ) #result for input( ) is always a str\n",
    "\n",
    "        int ( input( ) ) #int\n",
    "\n",
    "        float ( input( ) ) #float\n",
    "\n",
    "\n"
   ]
  },
  {
   "cell_type": "code",
   "execution_count": 42,
   "id": "fbba06da",
   "metadata": {},
   "outputs": [
    {
     "name": "stdout",
     "output_type": "stream",
     "text": [
      " first number: 1\n",
      " second number: 2\n",
      "the sum of:  3.0\n"
     ]
    }
   ],
   "source": [
    "# Write a Program to input 2 numbers & print their sum.\n",
    "\n",
    "n1 = float(input(\" first number: \"))\n",
    "\n",
    "n2 = float(input(\" second number: \"))\n",
    "\n",
    "sum = n1+n2\n",
    "\n",
    "print(\"the sum of: \",sum )"
   ]
  },
  {
   "cell_type": "code",
   "execution_count": 43,
   "id": "2a809f3d",
   "metadata": {},
   "outputs": [
    {
     "name": "stdout",
     "output_type": "stream",
     "text": [
      " side of square : 3\n",
      "area of the square side : 9.0\n"
     ]
    }
   ],
   "source": [
    "#WAP to input side of a square & print its area.\n",
    "\n",
    "side = float(input(\" side of square : \"))\n",
    "\n",
    "area = side *side\n",
    "\n",
    "print(\"area of the square side :\", area )"
   ]
  },
  {
   "cell_type": "code",
   "execution_count": 46,
   "id": "73a18648",
   "metadata": {},
   "outputs": [
    {
     "name": "stdout",
     "output_type": "stream",
     "text": [
      " number 1: 3.5\n",
      " number 2: 6.5\n",
      "5.0\n"
     ]
    }
   ],
   "source": [
    "#WAP to input 2 floating point numbers & print their average.\n",
    "# average = (num1+num2)/2\n",
    "\n",
    "num1 = float( input(\" number 1: \"))\n",
    "num2 = float(input(\" number 2: \"))\n",
    "\n",
    "average = ((num1+num2)/2)\n",
    "\n",
    "print ( average )"
   ]
  },
  {
   "cell_type": "code",
   "execution_count": 7,
   "id": "e4e5ed13",
   "metadata": {},
   "outputs": [
    {
     "name": "stdout",
     "output_type": "stream",
     "text": [
      " number 1: 98\n",
      " number 2: 54\n",
      "True\n"
     ]
    }
   ],
   "source": [
    "#WAP to input 2 int numbers, a and b.\n",
    "#Print True if a is greater than or equal to b. If not print False.\n",
    "\n",
    "a = int (input(\" number 1: \"))\n",
    "b = int (input(\" number 2: \"))\n",
    "\n",
    "print(a >= b)\n"
   ]
  },
  {
   "cell_type": "markdown",
   "id": "d64f508d",
   "metadata": {},
   "source": [
    "# Strings:\n",
    "# - strings are immutable :\n",
    "\n",
    "        - Immutable ka matlab hai ki ek baar create hone ke baad, uski value change nahi ki ja sakti.\n",
    "\n",
    "#String is data type that stores a sequence of characters.\n",
    "\n",
    "    - Basic Operations:\n",
    "    concatenation\n",
    "    “hello” + “world” =  “helloworld”\n",
    "\n",
    "    - length of str\n",
    "\n",
    "    len(str)"
   ]
  },
  {
   "cell_type": "raw",
   "id": "138f406d",
   "metadata": {},
   "source": [
    "When you use the + operator between two strings in Python, \n",
    "it concatenates them together. \n",
    "    So, \"5\" + \"5\" would result in \"55\",\n",
    "    not 10 as in numeric addition.\n",
    "\n",
    "Here's how it works:\n",
    "\n",
    "result = \"5\" + \"5\"\n",
    "print(result)  # Output: \"55\"\n",
    "\n",
    "The + operator concatenates the strings \"5\" and \"5\", resulting in the string \"55\". If you want to perform numerical addition instead, you need to convert the strings to integers first, like so:\n",
    "\n",
    "result = int(\"5\") + int(\"5\")\n",
    "print(result)  # Output: 10\n",
    "\n",
    "This will output 10, as it performs numeric addition instead of string concatenation."
   ]
  },
  {
   "cell_type": "markdown",
   "id": "b7dc3042",
   "metadata": {},
   "source": [
    "# Indentation :"
   ]
  },
  {
   "cell_type": "raw",
   "id": "64b6db10",
   "metadata": {},
   "source": [
    "\"In Python, instead of using curly braces to separate blocks of code, we use indentation. This means we start each block of code with some spaces or tabs. For example:\n",
    "\n",
    "  if condition:\n",
    "      print('This code is inside the \"if\" block')\n",
    "  else:\n",
    "      print('This code is inside the \"else\" block')\n",
    "The lines of code indented under if and else are separate blocks of code.\n",
    "\n",
    "Python knows they belong to those blocks because of the indentation.\""
   ]
  },
  {
   "cell_type": "markdown",
   "id": "4fe17106",
   "metadata": {},
   "source": [
    "# Indexing:\n",
    "\n",
    "\n",
    "str = “Pythonlearn”\n",
    "\n",
    "1 2 3 4 5 6 7 8 9 10 11\n",
    "\n",
    "str[0] is ‘P’, str[1] is ‘y’ \n",
    "\n"
   ]
  },
  {
   "cell_type": "code",
   "execution_count": null,
   "id": "59f792a2",
   "metadata": {},
   "outputs": [],
   "source": []
  },
  {
   "cell_type": "markdown",
   "id": "1c865f34",
   "metadata": {},
   "source": [
    "# Slicing:\n",
    "    Accessing parts of a string\n",
    "    \n",
    "        #str[ starting_idx : ending_idx ] #ending idx is not included\n",
    "        "
   ]
  },
  {
   "cell_type": "markdown",
   "id": "ba1a93e0",
   "metadata": {},
   "source": [
    "#Given string\n",
    "\n",
    "            example_string = \"PythonProgramming\"\n",
    "\n",
    "            # Example 1: Slicing example_string[1:4] is \"yth\"\n",
    "            slice_1 = example_string[1:4]\n",
    "            print(\"example_string[1:4] is:\", slice_1)  # Output: \"yth\"\n",
    "\n",
    "            # Example 2: Slicing example_string[:4] is same as example_string[0:4]\n",
    "            slice_2 = example_string[:4]\n",
    "            print(\"example_string[:4] is:\", slice_2)  # Output: \"Pyth\"\n",
    "\n",
    "            # Example 3: Slicing example_string[1:] is same as example_string[1:len(example_string)]\n",
    "            slice_3 = example_string[1:]\n",
    "            print(\"example_string[1:] is:\", slice_3)  # Output: \"ythonProgramming\"\n"
   ]
  },
  {
   "cell_type": "code",
   "execution_count": 60,
   "id": "0fd2aee1",
   "metadata": {},
   "outputs": [
    {
     "data": {
      "text/plain": [
       "'P'"
      ]
     },
     "execution_count": 60,
     "metadata": {},
     "output_type": "execute_result"
    }
   ],
   "source": [
    "str = \"Python_learn\"\n",
    "str[0]"
   ]
  },
  {
   "cell_type": "raw",
   "id": "216a39a1",
   "metadata": {},
   "source": [
    "# Slicing\n",
    "\n",
    "Negative Index\n",
    "\n",
    "str =\"Apple\"\n",
    "\n",
    "str[ -3 : -1 ] is “pl”"
   ]
  },
  {
   "cell_type": "code",
   "execution_count": 62,
   "id": "9a9f1341",
   "metadata": {},
   "outputs": [
    {
     "data": {
      "text/plain": [
       "'n'"
      ]
     },
     "execution_count": 62,
     "metadata": {},
     "output_type": "execute_result"
    }
   ],
   "source": [
    "str[-1]"
   ]
  },
  {
   "cell_type": "code",
   "execution_count": 63,
   "id": "657e9585",
   "metadata": {},
   "outputs": [
    {
     "data": {
      "text/plain": [
       "'l'"
      ]
     },
     "execution_count": 63,
     "metadata": {},
     "output_type": "execute_result"
    }
   ],
   "source": [
    "str[-5]"
   ]
  },
  {
   "cell_type": "code",
   "execution_count": 64,
   "id": "cd44381c",
   "metadata": {},
   "outputs": [
    {
     "data": {
      "text/plain": [
       "'Python'"
      ]
     },
     "execution_count": 64,
     "metadata": {},
     "output_type": "execute_result"
    }
   ],
   "source": [
    "str[:-6]"
   ]
  },
  {
   "cell_type": "code",
   "execution_count": 65,
   "id": "279abf1c",
   "metadata": {},
   "outputs": [
    {
     "data": {
      "text/plain": [
       "'_'"
      ]
     },
     "execution_count": 65,
     "metadata": {},
     "output_type": "execute_result"
    }
   ],
   "source": [
    "str[-6]"
   ]
  },
  {
   "cell_type": "code",
   "execution_count": 66,
   "id": "f883daef",
   "metadata": {},
   "outputs": [
    {
     "data": {
      "text/plain": [
       "'Python_learn'"
      ]
     },
     "execution_count": 66,
     "metadata": {},
     "output_type": "execute_result"
    }
   ],
   "source": [
    "str"
   ]
  },
  {
   "cell_type": "code",
   "execution_count": 67,
   "id": "ce758a5b",
   "metadata": {},
   "outputs": [
    {
     "data": {
      "text/plain": [
       "'_learn'"
      ]
     },
     "execution_count": 67,
     "metadata": {},
     "output_type": "execute_result"
    }
   ],
   "source": [
    "str[-6:]"
   ]
  },
  {
   "cell_type": "code",
   "execution_count": 70,
   "id": "b88ea0a5",
   "metadata": {},
   "outputs": [
    {
     "data": {
      "text/plain": [
       "'arn'"
      ]
     },
     "execution_count": 70,
     "metadata": {},
     "output_type": "execute_result"
    }
   ],
   "source": [
    "str[-3:]"
   ]
  },
  {
   "cell_type": "code",
   "execution_count": 81,
   "id": "29bfc567",
   "metadata": {},
   "outputs": [],
   "source": []
  },
  {
   "cell_type": "markdown",
   "id": "6177f231",
   "metadata": {},
   "source": [
    "# String Functions"
   ]
  },
  {
   "cell_type": "code",
   "execution_count": 14,
   "id": "a2af887d",
   "metadata": {},
   "outputs": [
    {
     "data": {
      "text/plain": [
       "1"
      ]
     },
     "execution_count": 14,
     "metadata": {},
     "output_type": "execute_result"
    }
   ],
   "source": [
    "#String Functions\n",
    "\n",
    "str = \"i am a coder.\"\n",
    "\n",
    "str.count(\"am\") #counts the occurrence of substr in string\n",
    "\n"
   ]
  },
  {
   "cell_type": "code",
   "execution_count": 32,
   "id": "2244b7ff",
   "metadata": {},
   "outputs": [
    {
     "data": {
      "text/plain": [
       "'I am a coder.'"
      ]
     },
     "execution_count": 32,
     "metadata": {},
     "output_type": "execute_result"
    }
   ],
   "source": [
    "str.capitalize( )#capitalize the first letter "
   ]
  },
  {
   "cell_type": "code",
   "execution_count": 23,
   "id": "0075ac01",
   "metadata": {},
   "outputs": [
    {
     "data": {
      "text/plain": [
       "10"
      ]
     },
     "execution_count": 23,
     "metadata": {},
     "output_type": "execute_result"
    }
   ],
   "source": [
    "str.find( \"er\") #returns 1st index of 1st occurrence\n"
   ]
  },
  {
   "cell_type": "code",
   "execution_count": 30,
   "id": "fefcb512",
   "metadata": {},
   "outputs": [],
   "source": [
    "\n",
    "new = str.replace(\"i am a coder.\", \"i am a creator\" ) #replaces all occurrences of old with new\n"
   ]
  },
  {
   "cell_type": "code",
   "execution_count": 31,
   "id": "553e036a",
   "metadata": {},
   "outputs": [
    {
     "data": {
      "text/plain": [
       "'i am a creator'"
      ]
     },
     "execution_count": 31,
     "metadata": {},
     "output_type": "execute_result"
    }
   ],
   "source": [
    "new"
   ]
  },
  {
   "cell_type": "code",
   "execution_count": 33,
   "id": "67646ad0",
   "metadata": {},
   "outputs": [],
   "source": [
    "#WAP to input user’s first name & print its length."
   ]
  },
  {
   "cell_type": "code",
   "execution_count": 40,
   "id": "31a8a11d",
   "metadata": {},
   "outputs": [
    {
     "name": "stdout",
     "output_type": "stream",
     "text": [
      "Users_first_name:tinu\n",
      "4\n"
     ]
    }
   ],
   "source": [
    "First_name = input(\"Users_first_name:\")\n",
    "\n",
    "print(len(First_name))"
   ]
  },
  {
   "cell_type": "code",
   "execution_count": 46,
   "id": "74af4037",
   "metadata": {},
   "outputs": [],
   "source": [
    "#WAP to find the occurrence of ‘$’ in a String."
   ]
  },
  {
   "cell_type": "code",
   "execution_count": 47,
   "id": "9d4a576a",
   "metadata": {},
   "outputs": [
    {
     "data": {
      "text/plain": [
       "1"
      ]
     },
     "execution_count": 47,
     "metadata": {},
     "output_type": "execute_result"
    }
   ],
   "source": [
    "str.count(\"$\")"
   ]
  },
  {
   "cell_type": "code",
   "execution_count": 44,
   "id": "0335ab39",
   "metadata": {},
   "outputs": [],
   "source": [
    "str = \"Pr$chi\""
   ]
  },
  {
   "cell_type": "code",
   "execution_count": 45,
   "id": "80a47337",
   "metadata": {},
   "outputs": [
    {
     "data": {
      "text/plain": [
       "'$'"
      ]
     },
     "execution_count": 45,
     "metadata": {},
     "output_type": "execute_result"
    }
   ],
   "source": [
    "str[2]"
   ]
  },
  {
   "cell_type": "markdown",
   "id": "4470d088",
   "metadata": {},
   "source": [
    "# Conditional Statements"
   ]
  },
  {
   "cell_type": "markdown",
   "id": "149b8bc5",
   "metadata": {},
   "source": [
    "                                    if-elif-else (SYNTAX)\n",
    "\n",
    "                                    if(condition) :\n",
    "\n",
    "                                        Statement1\n",
    "\n",
    "                                    elif(condition):\n",
    "\n",
    "                                        Statement2\n",
    "\n",
    "                                    else:\n",
    "\n",
    "                                        statement N"
   ]
  },
  {
   "cell_type": "code",
   "execution_count": 48,
   "id": "c322639e",
   "metadata": {},
   "outputs": [],
   "source": [
    "#WAP to check if a number entered by the user is odd or even."
   ]
  },
  {
   "cell_type": "code",
   "execution_count": 6,
   "id": "89a6f73a",
   "metadata": {},
   "outputs": [
    {
     "name": "stdout",
     "output_type": "stream",
     "text": [
      "Enter a number : 1\n",
      "number 1 is odd  :\n"
     ]
    }
   ],
   "source": [
    "number = int(input(\"Enter a number : \"))\n",
    "\n",
    "#for float values we use float instead of int\n",
    "\n",
    "if    number % 2 == 0:\n",
    "         print (\"number\", number,\"is even :\" )\n",
    "        \n",
    "else:\n",
    "        print (\"number\", number,\"is odd  :\" )"
   ]
  },
  {
   "cell_type": "code",
   "execution_count": 76,
   "id": "b0fe40bb",
   "metadata": {},
   "outputs": [],
   "source": [
    "#WAP to find the greatest of 3 numbers entered by the user."
   ]
  },
  {
   "cell_type": "code",
   "execution_count": 5,
   "id": "900df3c5",
   "metadata": {},
   "outputs": [
    {
     "name": "stdout",
     "output_type": "stream",
     "text": [
      "Enter the first number: 1\n",
      "Enter the second number: 0\n",
      "Enter the third number: 0\n",
      "The greatest number is: 1.0\n"
     ]
    }
   ],
   "source": [
    "\n",
    "num1 = float(input(\"Enter the first number: \"))\n",
    "num2 = float(input(\"Enter the second number: \"))\n",
    "num3 = float(input(\"Enter the third number: \"))\n",
    "\n",
    "if num1 >= num2 and num1 >= num3:\n",
    "    greatest = (num1)\n",
    "elif num2 >= num1 and num2 >= num3:\n",
    "    greatest = (num2)\n",
    "else :\n",
    "    greatest = (num3)\n",
    "\n",
    "\n",
    "\n",
    "print(\"The greatest number is:\", greatest)"
   ]
  },
  {
   "cell_type": "code",
   "execution_count": 1,
   "id": "b2d11aee",
   "metadata": {},
   "outputs": [],
   "source": [
    "#WAP to find the greatest of 4 numbers entered by the user."
   ]
  },
  {
   "cell_type": "code",
   "execution_count": 17,
   "id": "f5ef0c1d",
   "metadata": {},
   "outputs": [
    {
     "name": "stdout",
     "output_type": "stream",
     "text": [
      "Enter the first number: 12.0\n",
      "Enter the second number: 34.3\n",
      "Enter the third number: 3\n",
      "Enter the fourth number: 4\n",
      "34.3\n"
     ]
    }
   ],
   "source": [
    "num1 = float(input(\"Enter the first number: \"))\n",
    "num2 = float(input(\"Enter the second number: \"))\n",
    "num3 = float(input(\"Enter the third number: \"))\n",
    "num4 = float(input(\"Enter the fourth number: \"))\n",
    "\n",
    "if num1 >= num2 and num1 >= num3 and num1 >= num4:\n",
    "    print (num1)\n",
    "elif num2 >= num1 and num2 >= num3 and num2 >= num4:\n",
    "    print (num2)\n",
    "elif num3 >= num1 and num3 >= num2 and num3 >= num4:\n",
    "    print (num3)\n",
    "else:\n",
    "    print (num4)\n"
   ]
  },
  {
   "cell_type": "code",
   "execution_count": 13,
   "id": "15d1c7b5",
   "metadata": {},
   "outputs": [],
   "source": [
    "# WAP to check if a number is a multiple of 7 or not."
   ]
  },
  {
   "cell_type": "code",
   "execution_count": 106,
   "id": "a4188a2f",
   "metadata": {},
   "outputs": [
    {
     "name": "stdout",
     "output_type": "stream",
     "text": [
      " 8\n",
      "not a multiple of 7\n"
     ]
    }
   ],
   "source": [
    "num = float(input (\" \"))\n",
    "    \n",
    "if num % 7 == 0:\n",
    "    print (\"multiple of 7:\", num)\n",
    "else:\n",
    "    print (\"not a multiple of 7\" )"
   ]
  },
  {
   "cell_type": "code",
   "execution_count": 104,
   "id": "9c158c17",
   "metadata": {},
   "outputs": [
    {
     "name": "stdout",
     "output_type": "stream",
     "text": [
      " 14\n",
      "multiple of 7: 14.0\n"
     ]
    }
   ],
   "source": [
    "num = float(input (\" \"))\n",
    "    \n",
    "if num % 7 == 0:\n",
    "    print (\"multiple of 7:\", num)\n",
    "else:\n",
    "    print (\"not a multiple of 7: \" , num)"
   ]
  },
  {
   "cell_type": "code",
   "execution_count": 2,
   "id": "b5aeb497",
   "metadata": {},
   "outputs": [],
   "source": [
    "#Create a program that asks the user to input their age and then prints whether they are eligible to vote or not\n",
    "#(consider the legal voting age to be 18)."
   ]
  },
  {
   "cell_type": "code",
   "execution_count": 30,
   "id": "f42362d5",
   "metadata": {},
   "outputs": [
    {
     "name": "stdout",
     "output_type": "stream",
     "text": [
      "Enter a age :76\n",
      "Eligible to vote : 76\n"
     ]
    }
   ],
   "source": [
    "age = int(input(\"Enter a age :\"))\n",
    "\n",
    "if age >= 18:\n",
    "    print(\"Eligible to vote :\",age)\n",
    "else:\n",
    "    print(\"Not Eligible \")"
   ]
  },
  {
   "cell_type": "code",
   "execution_count": null,
   "id": "035d1161",
   "metadata": {},
   "outputs": [],
   "source": [
    "#Develop a program that asks the user to input a number and then checks whether it is positive, negative, or zero."
   ]
  },
  {
   "cell_type": "code",
   "execution_count": 38,
   "id": "1744db4a",
   "metadata": {},
   "outputs": [
    {
     "name": "stdout",
     "output_type": "stream",
     "text": [
      "Enter a number:-76\n",
      "number is negative: -76\n"
     ]
    }
   ],
   "source": [
    "num_s =  int(input(\"Enter a number:\"))\n",
    "\n",
    "if num_s > 0:\n",
    "    print(\"number is positive :\",num_s)\n",
    "elif num_s < 0:\n",
    "    print(\"number is negative:\",num_s)\n",
    "else :\n",
    "    print(\"number is xero :\",num_s)\n",
    "    "
   ]
  },
  {
   "cell_type": "raw",
   "id": "a4d5c1a6",
   "metadata": {},
   "source": [
    "#Create a program that prompts the user to input their grade (as a percentage) and then prints their corresponding letter grade according to the following scale:\n",
    "\n",
    "A: 90-100\n",
    "B: 80-89\n",
    "C: 70-79\n",
    "D: 60-69\n",
    "F: Below 60\n"
   ]
  },
  {
   "cell_type": "code",
   "execution_count": 60,
   "id": "c41ee01d",
   "metadata": {},
   "outputs": [
    {
     "name": "stdout",
     "output_type": "stream",
     "text": [
      "enter your grades in %:90\n",
      "grade A: 90\n"
     ]
    }
   ],
   "source": [
    "grade = int(input(\"enter your grades in %:\"))\n",
    "\n",
    "if 90 <= grade <= 100:\n",
    "    print (\"grade A:\",grade)\n",
    "\n",
    "elif 80 <= grade <= 89:\n",
    "    print (\"grade B:\",grade)\n",
    "    \n",
    "elif 70 <= grade <= 79:\n",
    "    print (\"grade C:\",grade)\n",
    "\n",
    "elif 60 <= grade <= 69:\n",
    "    print (\"grade D:\",grade)\n",
    "    \n",
    "else: \n",
    "    print (\"grade F:\",grade)\n"
   ]
  },
  {
   "cell_type": "code",
   "execution_count": null,
   "id": "8af96870",
   "metadata": {},
   "outputs": [],
   "source": [
    "#Write a Python function that takes a string as input and returns \"Yes\" if the string starts with a vowel,otherwise returns\"No\".\n"
   ]
  },
  {
   "cell_type": "code",
   "execution_count": 67,
   "id": "68551222",
   "metadata": {},
   "outputs": [
    {
     "name": "stdout",
     "output_type": "stream",
     "text": [
      "Enter a string:Prachi \n",
      "no\n"
     ]
    }
   ],
   "source": [
    "\n",
    "string = input(\"Enter a string:\")\n",
    "\n",
    "string_lower = string.lower()\n",
    "\n",
    "# if you convert the string to lowercase before comparing it to vowels,\n",
    "#it will handle both uppercase and lowercase strings correctly.\n",
    "\n",
    "if string_lower[0] in (\"a,e,i,o,u\"):\n",
    "    print (\"yes\")\n",
    "else:\n",
    "    print(\"no\")"
   ]
  },
  {
   "cell_type": "code",
   "execution_count": 70,
   "id": "81c308cf",
   "metadata": {},
   "outputs": [],
   "source": [
    "#Q Create a function that accepts a string as a parameter and counts the number\n",
    "#of vowels (a, e, i, o, u) in the string. The function should return the count"
   ]
  },
  {
   "cell_type": "code",
   "execution_count": 80,
   "id": "ee6b1d0f",
   "metadata": {},
   "outputs": [
    {
     "name": "stdout",
     "output_type": "stream",
     "text": [
      "Enter a string:AbCd\n",
      "Number of vowels in the string: 1\n"
     ]
    }
   ],
   "source": [
    "string = input(\"Enter a string:\")\n",
    "# Convert the string to lowercase for easier comparison\n",
    "string_lower = string.lower()\n",
    "\n",
    "vowel_count = 0\n",
    "\n",
    "for char in string_lower:\n",
    "    if char in (\"a,e,i,o,u\"):\n",
    "        vowel_count += 1\n",
    "\n",
    "\n",
    "print(\"Number of vowels in the string:\", vowel_count)\n"
   ]
  },
  {
   "cell_type": "code",
   "execution_count": 81,
   "id": "1e3b5b39",
   "metadata": {},
   "outputs": [],
   "source": [
    "#Develop a program that asks the user to input a year and then prints whether it is a leap year or not.\n"
   ]
  },
  {
   "cell_type": "code",
   "execution_count": 103,
   "id": "3091a426",
   "metadata": {},
   "outputs": [
    {
     "name": "stdout",
     "output_type": "stream",
     "text": [
      "Enter a year:2024\n",
      "Yes \n"
     ]
    }
   ],
   "source": [
    "#In short, we divide by 100 and also check if it's divisible by 400 to make sure our calendar stays accurate over time, \n",
    "#matching the actual time it takes for the Earth to orbit the sun.\n",
    "\n",
    "year = int(input(\"Enter a year:\"))\n",
    "\n",
    "if year % 4==0 and year % 100 != 0 or  year % 400 ==0:\n",
    "    print(\"Yes \")\n",
    "else :\n",
    "    print(\"Not \")\n",
    "    "
   ]
  },
  {
   "cell_type": "raw",
   "id": "250ff8a5",
   "metadata": {},
   "source": [
    "Q: #Create a program that simulates a simple login system.:\n",
    "# Ask the user to input their username and password, and then check if they match a predefined username and password. Print a success message if they match, otherwise print a failure message.\n"
   ]
  },
  {
   "cell_type": "code",
   "execution_count": 116,
   "id": "951ef75f",
   "metadata": {},
   "outputs": [
    {
     "name": "stdout",
     "output_type": "stream",
     "text": [
      "Enter your username:popie\n",
      "Enter your password:9182\n",
      "Enter your re_username:popie\n",
      "Enter your re_password:9182\n",
      "success \n"
     ]
    }
   ],
   "source": [
    "username = input(\"Enter your username:\")\n",
    "Password = input(\"Enter your password:\")\n",
    "\n",
    "re_username = input(\"Enter your re_username:\")\n",
    "re_password = input(\"Enter your re_password:\")\n",
    "\n",
    "if username == re_username and Password == re_password:\n",
    "    print(\"success \")\n",
    "else:\n",
    "    print(\"failed retry \")\n",
    "\n"
   ]
  },
  {
   "cell_type": "code",
   "execution_count": 118,
   "id": "bf65b477",
   "metadata": {},
   "outputs": [],
   "source": [
    "#Develop a program that prompts the user to input the lengths of three sides of a triangle\n",
    "#and then determines whether the triangle is equilateral, isosceles, or scalene."
   ]
  },
  {
   "cell_type": "code",
   "execution_count": 122,
   "id": "788b0d55",
   "metadata": {},
   "outputs": [
    {
     "name": "stdout",
     "output_type": "stream",
     "text": [
      "Enter the length of the first side: 32\n",
      "Enter the length of the second side: 22\n",
      "Enter the length of the third side: 23\n",
      "The triangle is a scalene triangle.\n"
     ]
    }
   ],
   "source": [
    "#Sides:\n",
    "#equilateral if all sides are equal,\n",
    "#isosceles if at least two sides are equal, \n",
    "#and scalene if no sides are equal.\"\n",
    "\n",
    "side1 = float(input(\"Enter the length of the first side: \"))\n",
    "side2 = float(input(\"Enter the length of the second side: \"))\n",
    "side3 = float(input(\"Enter the length of the third side: \"))\n",
    "\n",
    "# Check the type of triangle using conditional statements\n",
    "if side1 == side2 == side3:\n",
    "    print(\"The triangle is an equilateral triangle.\")\n",
    "elif side1 == side2 or side1 == side3 or side2 == side3:\n",
    "    print(\"The triangle is an isosceles triangle.\")\n",
    "else:\n",
    "    print(\"The triangle is a scalene triangle.\")\n"
   ]
  },
  {
   "cell_type": "code",
   "execution_count": null,
   "id": "7f7b8a05",
   "metadata": {},
   "outputs": [],
   "source": [
    "#Write a Python function that takes a list of numbers as input and returns the sum of all the positive numbers in the list.\n"
   ]
  },
  {
   "cell_type": "code",
   "execution_count": 169,
   "id": "e9cb50a7",
   "metadata": {},
   "outputs": [
    {
     "name": "stdout",
     "output_type": "stream",
     "text": [
      "Sum of positive numbers: 9\n"
     ]
    }
   ],
   "source": [
    "# Input list of numbers\n",
    "numbers_list = [1, -2, 3, -4, 5]\n",
    "\n",
    "# Initialize sum to 0\n",
    "total = 0\n",
    "\n",
    "# Check if the first number is positive\n",
    "if numbers_list[0] > 0:\n",
    "    total += numbers_list[0]\n",
    "\n",
    "# Check if the second number is positive\n",
    "if numbers_list[1] > 0:\n",
    "    total += numbers_list[1]\n",
    "\n",
    "# Check if the third number is positive\n",
    "if numbers_list[2] > 0:\n",
    "    total += numbers_list[2]\n",
    "\n",
    "# Check if the fourth number is positive\n",
    "if numbers_list[3] > 0:\n",
    "    total += numbers_list[3]\n",
    "\n",
    "# Check if the fifth number is positive\n",
    "if numbers_list[4] > 0:\n",
    "    total += numbers_list[4]\n",
    "\n",
    "# Print the sum of positive numbers\n",
    "print(\"Sum of positive numbers:\", total)\n"
   ]
  },
  {
   "cell_type": "raw",
   "id": "c83a9bf0",
   "metadata": {},
   "source": [
    "def sum_positive_numbers(numbers):\n",
    "    total = 0  # Initialize sum to 0\n",
    "    \n",
    "    for num in numbers:  # Iterate through the list\n",
    "        if num > 0:  # Check if the number is positive\n",
    "            total += num  # If positive, add it to the sum\n",
    "            \n",
    "    return total  # Return the sum of positive numbers\n",
    "\n",
    "# Test the function\n",
    "\n",
    "numbers_list = [1, -2, 3, 98,4,88,29,28,2024]\n",
    "\n",
    "print(\"Sum of positive numbers:\", sum_positive_numbers(numbers_list))\n"
   ]
  },
  {
   "cell_type": "code",
   "execution_count": 162,
   "id": "42226576",
   "metadata": {},
   "outputs": [
    {
     "name": "stdout",
     "output_type": "stream",
     "text": [
      "Sum of positive numbers: 9\n"
     ]
    }
   ],
   "source": [
    "# Input list of numbers\n",
    "numbers_list = [1, -2, 3, -4, 5]\n",
    "\n",
    "# Initialize sum to 0\n",
    "total = 0\n",
    "\n",
    "# Check if the first number is positive\n",
    "if numbers_list[0] > 0:\n",
    "    total += numbers_list[0]\n",
    "\n",
    "# Check if the second number is positive\n",
    "if numbers_list[1] > 0:\n",
    "    total += numbers_list[1]\n",
    "\n",
    "# Check if the third number is positive\n",
    "if numbers_list[2] > 0:\n",
    "    total += numbers_list[2]\n",
    "\n",
    "# Check if the fourth number is positive\n",
    "if numbers_list[3] > 0:\n",
    "    total += numbers_list[3]\n",
    "\n",
    "# Check if the fifth number is positive\n",
    "if numbers_list[4] > 0:\n",
    "    total += numbers_list[4]\n",
    "\n",
    "# Print the sum of positive numbers\n",
    "print(\"Sum of positive numbers:\", total)\n"
   ]
  },
  {
   "cell_type": "code",
   "execution_count": 172,
   "id": "fd175970",
   "metadata": {},
   "outputs": [
    {
     "name": "stdout",
     "output_type": "stream",
     "text": [
      "7\n"
     ]
    }
   ],
   "source": [
    "a = [-1, 2, 5]\n",
    "positive_numbers = [num for num in a if num >= 0]\n",
    "total = sum(positive_numbers)\n",
    "print(total)\n"
   ]
  },
  {
   "cell_type": "markdown",
   "id": "d54ef607",
   "metadata": {},
   "source": [
    "# Lists in Python"
   ]
  },
  {
   "cell_type": "markdown",
   "id": "e221af1d",
   "metadata": {},
   "source": [
    "A built-in data type that stores set of values\n",
    "\n",
    "- It can store elements of different types (integer, float, string, etc.)\n",
    "\n",
    "                marks = [87, 64, 33, 95, 76] #marks[0], marks[1]..\n",
    "                student = [\"Karan\", 85,\"Delhi\"] #student[0], student[1]..\n",
    "                student[0] = \"Arjun\" #allowed in python\n",
    "                len(student) #returns length\n",
    "\n",
    "# - List are mutable in python :\n",
    "\n",
    "        - means \"mutable\" ka matlab hota hai ki ek object ki value changeable hai."
   ]
  },
  {
   "cell_type": "markdown",
   "id": "dfd00e42",
   "metadata": {},
   "source": [
    "# List Slicing"
   ]
  },
  {
   "cell_type": "code",
   "execution_count": null,
   "id": "02c5fa11",
   "metadata": {},
   "outputs": [],
   "source": [
    "\n",
    "\n",
    "list_name[ starting_idx : ending_idx ] #ending idx is not included\n",
    "Similar to String Slicing\n",
    "\n",
    "marks = [87, 64, 33, 95, 76]\n",
    "\n",
    "marks[ 1 : 4 ] is [64, 33, 95]\n",
    "\n",
    "marks[ : 4 ] is same as marks[ 0 : 4]\n",
    "\n",
    "marks[ 1 : ] is same as marks[ 1 : len(marks) ]\n",
    "\n",
    "marks[ -3 : -1 ] is [33, 95]\n"
   ]
  },
  {
   "cell_type": "markdown",
   "id": "f3ebf895",
   "metadata": {},
   "source": [
    "# List Methods"
   ]
  },
  {
   "cell_type": "code",
   "execution_count": null,
   "id": "f0dcfcf1",
   "metadata": {},
   "outputs": [],
   "source": [
    "list = [2, 1, 3]\n",
    "\n",
    "list.append(4) #adds one element at the end [2, 1, 3, 4]\n",
    "\n",
    "- sorting in list :\n",
    "        - list.sort( ) #sorts in ascending order by defalut : [1, 2, 3]\n",
    "                - ascending [1, 2, 3]\n",
    "                - descending [3,2,1]\n",
    "        - list.sort( reverse=True ) #sorts in descending order [3, 2, 1]\n",
    "            - eg: list.sort( reverse=True )\n",
    "                    list = [3, 2, 1]\n",
    "                    \n",
    "list.reverse( ) #reverses list [3, 1, 2]\n",
    "list.insert( idx, el ) #insert element at index\n"
   ]
  },
  {
   "cell_type": "code",
   "execution_count": 225,
   "id": "96418559",
   "metadata": {},
   "outputs": [
    {
     "data": {
      "text/plain": [
       "[4, 3, 2, 1]"
      ]
     },
     "execution_count": 225,
     "metadata": {},
     "output_type": "execute_result"
    }
   ],
   "source": [
    "list.sort( reverse=True )\n",
    "list"
   ]
  },
  {
   "cell_type": "code",
   "execution_count": 227,
   "id": "0ee3f1f2",
   "metadata": {},
   "outputs": [
    {
     "name": "stdout",
     "output_type": "stream",
     "text": [
      "After appending 4: [2, 1, 3, 4]\n",
      "After sorting in ascending order: [1, 2, 3, 4]\n",
      "After sorting in descending order: [4, 3, 2, 1]\n",
      "After reversing the list: [1, 2, 3, 4]\n",
      "After inserting element at index 2: [1, 2, 5, 3, 4]\n"
     ]
    }
   ],
   "source": [
    "# Define the list\n",
    "my_list = [2, 1, 3]\n",
    "\n",
    "# Append 4 to the end of the list\n",
    "my_list.append(4)\n",
    "print(\"After appending 4:\", my_list)  # Output: [2, 1, 3, 4]\n",
    "\n",
    "# Sort the list in ascending order\n",
    "my_list.sort()\n",
    "print(\"After sorting in ascending order:\", my_list)  # Output: [1, 2, 3, 4]\n",
    "\n",
    "# Sort the list in descending order\n",
    "my_list.sort(reverse=True)\n",
    "print(\"After sorting in descending order:\", my_list)  # Output: [4, 3, 2, 1]\n",
    "\n",
    "# Reverse the list\n",
    "my_list.reverse()\n",
    "print(\"After reversing the list:\", my_list)  # Output: [1, 2, 3, 4]\n",
    "\n",
    "# Insert the element at the specified index\n",
    "my_list.insert(2, 5)\n",
    "print(\"After inserting element at index 2:\", my_list)  # Output: [1, 2, 5, 3, 4]\n"
   ]
  },
  {
   "cell_type": "markdown",
   "id": "eaeb8346",
   "metadata": {},
   "source": [
    "# List Methods"
   ]
  },
  {
   "cell_type": "code",
   "execution_count": 243,
   "id": "5d71a98c",
   "metadata": {},
   "outputs": [
    {
     "data": {
      "text/plain": [
       "[2, 3, 1]"
      ]
     },
     "execution_count": 243,
     "metadata": {},
     "output_type": "execute_result"
    }
   ],
   "source": [
    "list = [2, 1, 3, 1]\n",
    "\n",
    "list.remove(1) #removes first occurrence of element [2, 3, 1]\n",
    "list"
   ]
  },
  {
   "cell_type": "code",
   "execution_count": 244,
   "id": "0bc683a8",
   "metadata": {},
   "outputs": [
    {
     "data": {
      "text/plain": [
       "[2, 1]"
      ]
     },
     "execution_count": 244,
     "metadata": {},
     "output_type": "execute_result"
    }
   ],
   "source": [
    "list.pop(1) #removes element at idx\n",
    "list"
   ]
  },
  {
   "cell_type": "markdown",
   "id": "784b7caf",
   "metadata": {},
   "source": [
    "# Tuples in Python\n",
    "\"( )\"showed in square brackets \n",
    "\n",
    "- A built-in data type that lets us create IMMUTABLE sequences of values."
   ]
  },
  {
   "cell_type": "code",
   "execution_count": 257,
   "id": "7327ad88",
   "metadata": {},
   "outputs": [],
   "source": [
    "list = [87, 64, 33, 95, 76]\n",
    "\n",
    "# convert list -> tuple :\n",
    "\n",
    "tup = (87, 64, 33, 95, 76) #tup[0], tup[1]..\n",
    "\n",
    " # tup[0] = 43 #NOT allowed in python\n",
    "\n",
    "tup1 = ( )\n",
    "\n",
    "tup2 = ( 1, )\n",
    "\n",
    "tup3 = ( 1, 2, 3 )\n"
   ]
  },
  {
   "cell_type": "code",
   "execution_count": 264,
   "id": "957b372f",
   "metadata": {},
   "outputs": [
    {
     "ename": "TypeError",
     "evalue": "'tuple' object does not support item assignment",
     "output_type": "error",
     "traceback": [
      "\u001b[1;31m---------------------------------------------------------------------------\u001b[0m",
      "\u001b[1;31mTypeError\u001b[0m                                 Traceback (most recent call last)",
      "Cell \u001b[1;32mIn[264], line 1\u001b[0m\n\u001b[1;32m----> 1\u001b[0m tup[\u001b[38;5;241m0\u001b[39m] \u001b[38;5;241m=\u001b[39m \u001b[38;5;241m43\u001b[39m\n",
      "\u001b[1;31mTypeError\u001b[0m: 'tuple' object does not support item assignment"
     ]
    }
   ],
   "source": [
    "tup[0] = 43 #tuple' object does not support item assignment\n"
   ]
  },
  {
   "cell_type": "code",
   "execution_count": 275,
   "id": "45ede8a6",
   "metadata": {},
   "outputs": [
    {
     "data": {
      "text/plain": [
       "tuple"
      ]
     },
     "execution_count": 275,
     "metadata": {},
     "output_type": "execute_result"
    }
   ],
   "source": [
    "type(tup)"
   ]
  },
  {
   "cell_type": "code",
   "execution_count": 274,
   "id": "b3aa859d",
   "metadata": {},
   "outputs": [
    {
     "data": {
      "text/plain": [
       "()"
      ]
     },
     "execution_count": 274,
     "metadata": {},
     "output_type": "execute_result"
    }
   ],
   "source": [
    "tup1"
   ]
  },
  {
   "cell_type": "code",
   "execution_count": 260,
   "id": "8a4f7395",
   "metadata": {},
   "outputs": [
    {
     "data": {
      "text/plain": [
       "(1,)"
      ]
     },
     "execution_count": 260,
     "metadata": {},
     "output_type": "execute_result"
    }
   ],
   "source": [
    "tup2\n"
   ]
  },
  {
   "cell_type": "code",
   "execution_count": 261,
   "id": "148ef573",
   "metadata": {},
   "outputs": [
    {
     "data": {
      "text/plain": [
       "(1, 2, 3)"
      ]
     },
     "execution_count": 261,
     "metadata": {},
     "output_type": "execute_result"
    }
   ],
   "source": [
    "tup3"
   ]
  },
  {
   "cell_type": "markdown",
   "id": "ac68a2b2",
   "metadata": {},
   "source": [
    "# Tuple Methods\n"
   ]
  },
  {
   "cell_type": "code",
   "execution_count": 270,
   "id": "52705de3",
   "metadata": {},
   "outputs": [
    {
     "data": {
      "text/plain": [
       "2"
      ]
     },
     "execution_count": 270,
     "metadata": {},
     "output_type": "execute_result"
    }
   ],
   "source": [
    "tup = (2, 1, 3, 1)\n",
    "\n",
    "tup.index(3) #returns index position  of first occurrence \n"
   ]
  },
  {
   "cell_type": "code",
   "execution_count": 271,
   "id": "012f5f2d",
   "metadata": {},
   "outputs": [
    {
     "data": {
      "text/plain": [
       "2"
      ]
     },
     "execution_count": 271,
     "metadata": {},
     "output_type": "execute_result"
    }
   ],
   "source": [
    "tup.count( 1 ) #counts total occurrences"
   ]
  },
  {
   "cell_type": "markdown",
   "id": "ca9a7a73",
   "metadata": {},
   "source": [
    "# Practice"
   ]
  },
  {
   "cell_type": "raw",
   "id": "ad0fbff4",
   "metadata": {},
   "source": [
    "Q #WAP to count the number of students with the “A” grade in the following tuple.\n",
    "\n",
    "        [\"C\",\"D\",\"A\",\"A\",\"B\",\"B\",\"A\"]"
   ]
  },
  {
   "cell_type": "code",
   "execution_count": 277,
   "id": "c9d676ce",
   "metadata": {},
   "outputs": [],
   "source": [
    "list = [\"C\",\"D\",\"A\",\"A\",\"B\",\"B\",\"A\"]"
   ]
  },
  {
   "cell_type": "code",
   "execution_count": 278,
   "id": "57a219d8",
   "metadata": {},
   "outputs": [
    {
     "data": {
      "text/plain": [
       "3"
      ]
     },
     "execution_count": 278,
     "metadata": {},
     "output_type": "execute_result"
    }
   ],
   "source": [
    "list.count(\"A\")"
   ]
  },
  {
   "cell_type": "raw",
   "id": "09b73b26",
   "metadata": {},
   "source": [
    "Q #Store the above values in a list & sort them from “A” to “D”"
   ]
  },
  {
   "cell_type": "code",
   "execution_count": 280,
   "id": "16e42de7",
   "metadata": {},
   "outputs": [
    {
     "data": {
      "text/plain": [
       "['A', 'A', 'A', 'B', 'B', 'C', 'D']"
      ]
     },
     "execution_count": 280,
     "metadata": {},
     "output_type": "execute_result"
    }
   ],
   "source": [
    "list.sort()\n",
    "list"
   ]
  },
  {
   "cell_type": "code",
   "execution_count": 173,
   "id": "df4e3918",
   "metadata": {},
   "outputs": [],
   "source": [
    "#WAP to ask the user to enter names of their 3 favorite movies & store them in a list.\n"
   ]
  },
  {
   "cell_type": "code",
   "execution_count": 325,
   "id": "2257c8c7",
   "metadata": {},
   "outputs": [
    {
     "name": "stdout",
     "output_type": "stream",
     "text": [
      "Enter 1 fav movie:shutter island\n",
      "Enter 2 fav movie:Narnia\n",
      "Enter 3 fav movie:Hi nana\n",
      "['shutter island', 'Narnia', 'Hi nana']\n"
     ]
    }
   ],
   "source": [
    "movies = [ ]#empty list \n",
    "movies.append(input(\"Enter 1 fav movie:\"))\n",
    "movies.append(input(\"Enter 2 fav movie:\"))\n",
    "movies.append(input(\"Enter 3 fav movie:\"))\n",
    "\n",
    "print(movies)"
   ]
  },
  {
   "cell_type": "code",
   "execution_count": 326,
   "id": "247c9bea",
   "metadata": {},
   "outputs": [
    {
     "data": {
      "text/plain": [
       "['shutter island', 'Narnia', 'Hi nana']"
      ]
     },
     "execution_count": 326,
     "metadata": {},
     "output_type": "execute_result"
    }
   ],
   "source": [
    "movies "
   ]
  },
  {
   "cell_type": "code",
   "execution_count": 327,
   "id": "83ff64fc",
   "metadata": {},
   "outputs": [
    {
     "name": "stdout",
     "output_type": "stream",
     "text": [
      "['shutter island', 'Narnia', 'Hi nana', 'stuard_little']\n"
     ]
    }
   ],
   "source": [
    "movies.append(\"stuard_little\")\n",
    "\n",
    "print(movies)"
   ]
  },
  {
   "cell_type": "code",
   "execution_count": 217,
   "id": "6cb09e2f",
   "metadata": {},
   "outputs": [
    {
     "data": {
      "text/plain": [
       "[1, 2, 3, 4]"
      ]
     },
     "execution_count": 217,
     "metadata": {},
     "output_type": "execute_result"
    }
   ],
   "source": [
    "# Example :(mutable )\n",
    "    \n",
    "list = [1,2,3]\n",
    "\n",
    "list.append(4)\n",
    "\n",
    "list"
   ]
  },
  {
   "cell_type": "markdown",
   "id": "9892aa72",
   "metadata": {},
   "source": [
    "# palindrome"
   ]
  },
  {
   "cell_type": "raw",
   "id": "d7c20201",
   "metadata": {},
   "source": [
    "Q#WAP to check if a list contains a palindrome of elements. (Hint: use copy( ) method)\n",
    "[1, 2, 3, 2, 1]\n",
    "[1,\"abc\",\"abc\", 1]\n"
   ]
  },
  {
   "cell_type": "markdown",
   "id": "7ccde483",
   "metadata": {},
   "source": [
    "#A palindrome is a word, phrase, number, or other sequence of characters that reads the same forward and backward, ignoring spaces, punctuation, and capitalization\n",
    "    - For example:\n",
    "\n",
    "            \"radar\" is a palindrome because it reads the same forward and backward.\n",
    "            \n",
    "            \"level\" is a palindrome.\n",
    "            \n",
    "            \"12321\" is a numeric palindrome.\n",
    "            \n",
    "            \"A man, a plan, a canal, Panama!\" is a palindrome when spaces and punctuation are ignored.\n",
    "            \n",
    "- In Python, you can check if a string is a palindrome by comparing it with its reverse.      "
   ]
  },
  {
   "cell_type": "code",
   "execution_count": 420,
   "id": "a7356e22",
   "metadata": {},
   "outputs": [],
   "source": [
    "#step 1:\n",
    "\n",
    "#list1 = [1, 2, 3, 2, 1]\n",
    "list1 = [1,\"abc\",\"abc\", 1]\n",
    "\n"
   ]
  },
  {
   "cell_type": "code",
   "execution_count": 421,
   "id": "f849e48d",
   "metadata": {},
   "outputs": [],
   "source": [
    "# make another list of name copy_list: \n",
    "copy_list1 = list1.copy()\n"
   ]
  },
  {
   "cell_type": "code",
   "execution_count": 407,
   "id": "935c72dd",
   "metadata": {},
   "outputs": [
    {
     "data": {
      "text/plain": [
       "[1, 'abc', 'abc', 1]"
      ]
     },
     "execution_count": 407,
     "metadata": {},
     "output_type": "execute_result"
    }
   ],
   "source": [
    "#step 2:\n",
    "\n",
    "copy_list1"
   ]
  },
  {
   "cell_type": "code",
   "execution_count": 408,
   "id": "4030df42",
   "metadata": {},
   "outputs": [],
   "source": [
    "#step3:\n",
    "\n",
    "copy_list1.reverse()\n"
   ]
  },
  {
   "cell_type": "code",
   "execution_count": 409,
   "id": "fa78f07e",
   "metadata": {},
   "outputs": [
    {
     "data": {
      "text/plain": [
       "[1, 'abc', 'abc', 1]"
      ]
     },
     "execution_count": 409,
     "metadata": {},
     "output_type": "execute_result"
    }
   ],
   "source": [
    "#step4:\n",
    "\n",
    "copy_list1"
   ]
  },
  {
   "cell_type": "code",
   "execution_count": 410,
   "id": "718fd3c6",
   "metadata": {},
   "outputs": [
    {
     "name": "stdout",
     "output_type": "stream",
     "text": [
      "its a palindrome\n"
     ]
    }
   ],
   "source": [
    "#step5:\n",
    "\n",
    "if (copy_list1 == list1):\n",
    "    print(\"its a palindrome\")\n",
    "else:\n",
    "    print(\"its not a palindrome\")\n",
    "\n",
    "    "
   ]
  },
  {
   "cell_type": "code",
   "execution_count": 5,
   "id": "b3b94aff",
   "metadata": {},
   "outputs": [
    {
     "name": "stdout",
     "output_type": "stream",
     "text": [
      "its not a palindrome\n"
     ]
    }
   ],
   "source": [
    "list1 = [1,2,3]\n",
    "\n",
    "copy_list1 = list1.copy()\n",
    "\n",
    "copy_list1.reverse()\n",
    "\n",
    "if (copy_list1 == list1):\n",
    "    print(\"its a palindrome\")\n",
    "else:\n",
    "    print(\"its not a palindrome\")\n"
   ]
  },
  {
   "cell_type": "markdown",
   "id": "006d3a34",
   "metadata": {},
   "source": [
    "# Dictionary in Python"
   ]
  },
  {
   "cell_type": "markdown",
   "id": "a8531f4d",
   "metadata": {},
   "source": [
    "- Dictionaries are used to store data values in\n",
    "#### key:value pairs\n",
    "\n",
    "        (“key” : value)\n",
    "\n",
    "- They are unordered, mutable(changeable) & \n",
    "- don’t allow duplicate keys"
   ]
  },
  {
   "cell_type": "code",
   "execution_count": 15,
   "id": "914d599a",
   "metadata": {},
   "outputs": [],
   "source": [
    "dict = {\n",
    "    \"name\" : \"shradha\",\n",
    "    \"cgpa\" : 9.6,\n",
    "    \"marks\": [98,97,95],\n",
    "    \n",
    "    \n",
    "}"
   ]
  },
  {
   "cell_type": "code",
   "execution_count": 16,
   "id": "de9a0c35",
   "metadata": {},
   "outputs": [],
   "source": [
    "dict[\"name\"], dict[\"cgpa\"], dict[\"marks\"]\n",
    "\n",
    "dict[\"key\"] = \"value\"     #to assign or add new"
   ]
  },
  {
   "cell_type": "code",
   "execution_count": 17,
   "id": "114f29fb",
   "metadata": {},
   "outputs": [
    {
     "data": {
      "text/plain": [
       "{'name': 'shradha', 'cgpa': 9.6, 'marks': [98, 97, 95], 'key': 'value'}"
      ]
     },
     "execution_count": 17,
     "metadata": {},
     "output_type": "execute_result"
    }
   ],
   "source": [
    "dict"
   ]
  },
  {
   "cell_type": "code",
   "execution_count": 18,
   "id": "81f07b80",
   "metadata": {},
   "outputs": [
    {
     "data": {
      "text/plain": [
       "{'name': 'shradha', 'cgpa': 9.6, 'marks': [98, 97, 95], 'key': 'value'}"
      ]
     },
     "execution_count": 18,
     "metadata": {},
     "output_type": "execute_result"
    }
   ],
   "source": [
    "dict"
   ]
  },
  {
   "cell_type": "code",
   "execution_count": 21,
   "id": "fe97b652",
   "metadata": {},
   "outputs": [],
   "source": [
    "numll_dict = { }"
   ]
  },
  {
   "cell_type": "code",
   "execution_count": 23,
   "id": "a037d7e3",
   "metadata": {},
   "outputs": [
    {
     "data": {
      "text/plain": [
       "dict"
      ]
     },
     "execution_count": 23,
     "metadata": {},
     "output_type": "execute_result"
    }
   ],
   "source": [
    "type(numll_dict) "
   ]
  },
  {
   "cell_type": "markdown",
   "id": "b65c53e5",
   "metadata": {},
   "source": [
    "# Nested Dictionaries in Python"
   ]
  },
  {
   "cell_type": "code",
   "execution_count": 127,
   "id": "378ef0ee",
   "metadata": {},
   "outputs": [],
   "source": [
    "student = {\n",
    "    \"name\"    : \"prachi\",\n",
    "    \"subjects\" : {\n",
    "        \"phy\"  :97,\n",
    "        \"chem\" :95,\n",
    "        \"math\" :76\n",
    "    }\n",
    "  \n",
    "    \n",
    "}\n"
   ]
  },
  {
   "cell_type": "code",
   "execution_count": 128,
   "id": "7c70b015",
   "metadata": {},
   "outputs": [
    {
     "data": {
      "text/plain": [
       "95"
      ]
     },
     "execution_count": 128,
     "metadata": {},
     "output_type": "execute_result"
    }
   ],
   "source": [
    "student[\"subjects\"][\"chem\"]"
   ]
  },
  {
   "cell_type": "markdown",
   "id": "b9a75709",
   "metadata": {},
   "source": [
    "# Dictionary Methods\n",
    "\n",
    "            - myDict.keys( ) #returns all keys\n",
    "\n",
    "            - myDict.values( ) #returns all values\n",
    "\n",
    "            - myDict.items( ) #returns all (key, val) pairs as tuples\n",
    "\n",
    "            - myDict.get( “key““ )#returns the key according to value\n",
    "\n",
    "            - myDict.update( newDict ) #inserts the specified items to the dictionary\n",
    "\n",
    "- total number of key : = eg : \n",
    "\n",
    "                            len(student) which is 2 "
   ]
  },
  {
   "cell_type": "code",
   "execution_count": 129,
   "id": "45b6b3eb",
   "metadata": {},
   "outputs": [
    {
     "name": "stdout",
     "output_type": "stream",
     "text": [
      "dict_keys(['name', 'subjects'])\n"
     ]
    }
   ],
   "source": [
    "# Given dictionary\n",
    "student = {\n",
    "    \"name\"    : \"prachi\",\n",
    "    \"subjects\": {\n",
    "        \"phy\": 97,\n",
    "        \"chem\": 95,\n",
    "        \"math\": 76\n",
    "    }\n",
    "}\n",
    "\n",
    "# Example 1: Returns all keys\n",
    "keys = student.keys()\n",
    "print(keys)  # Output: dict_keys(['name', 'subjects'])\n"
   ]
  },
  {
   "cell_type": "code",
   "execution_count": 130,
   "id": "b21d0776",
   "metadata": {},
   "outputs": [
    {
     "name": "stdout",
     "output_type": "stream",
     "text": [
      "dict_values(['prachi', {'phy': 97, 'chem': 95, 'math': 76}])\n"
     ]
    }
   ],
   "source": [
    "# Example 2: Returns all values\n",
    "values = student.values()\n",
    "print(values)  # Output: dict_values(['shradha', {'phy': 97, 'chem': 95, 'math': 76}])\n"
   ]
  },
  {
   "cell_type": "code",
   "execution_count": 131,
   "id": "5b91aa6f",
   "metadata": {},
   "outputs": [
    {
     "name": "stdout",
     "output_type": "stream",
     "text": [
      "dict_items([('name', 'prachi'), ('subjects', {'phy': 97, 'chem': 95, 'math': 76})])\n"
     ]
    }
   ],
   "source": [
    "# Example 3: Returns all (key, value) pairs as tuples\n",
    "items = student.items()\n",
    "print(items)  # Output: dict_items([('name', 'shradha'), ('subjects', {'phy': 97, 'chem': 95, 'math': 76})])\n",
    "\n"
   ]
  },
  {
   "cell_type": "code",
   "execution_count": 132,
   "id": "bea33d5a",
   "metadata": {},
   "outputs": [
    {
     "name": "stdout",
     "output_type": "stream",
     "text": [
      "prachi\n"
     ]
    }
   ],
   "source": [
    "# Example 4: Returns the value associated with the key\n",
    "value = student.get(\"name\")\n",
    "print(value)  # Output: shradha\n"
   ]
  },
  {
   "cell_type": "code",
   "execution_count": 133,
   "id": "aa4b5df3",
   "metadata": {},
   "outputs": [
    {
     "name": "stdout",
     "output_type": "stream",
     "text": [
      "{'name': 'prachi', 'subjects': {'phy': 97, 'chem': 95, 'math': 76}, 'age': 20}\n"
     ]
    }
   ],
   "source": [
    "# Example 5: Inserts the specified items into the dictionary\n",
    "student.update({\"age\": 20})\n",
    "print(student)  # Output: {'name': 'shradha', 'subjects': {'phy': 97, 'chem': 95, 'math': 76}, 'age': 20}"
   ]
  },
  {
   "cell_type": "code",
   "execution_count": 134,
   "id": "c8e28578",
   "metadata": {},
   "outputs": [
    {
     "data": {
      "text/plain": [
       "3"
      ]
     },
     "execution_count": 134,
     "metadata": {},
     "output_type": "execute_result"
    }
   ],
   "source": [
    "len(student)"
   ]
  },
  {
   "cell_type": "code",
   "execution_count": 135,
   "id": "6cd8b787",
   "metadata": {},
   "outputs": [
    {
     "data": {
      "text/plain": [
       "dict_keys(['phy', 'chem', 'math'])"
      ]
     },
     "execution_count": 135,
     "metadata": {},
     "output_type": "execute_result"
    }
   ],
   "source": [
    "subject_keys = student[\"subjects\"].keys()\n",
    "subject_keys"
   ]
  },
  {
   "cell_type": "code",
   "execution_count": 138,
   "id": "56019cd8",
   "metadata": {},
   "outputs": [
    {
     "data": {
      "text/plain": [
       "'prachi'"
      ]
     },
     "execution_count": 138,
     "metadata": {},
     "output_type": "execute_result"
    }
   ],
   "source": [
    "student.get(\"name\")#dict.get(\"key\")...."
   ]
  },
  {
   "cell_type": "markdown",
   "id": "0848c8e0",
   "metadata": {},
   "source": [
    "# Set in Python"
   ]
  },
  {
   "cell_type": "markdown",
   "id": "11bf0931",
   "metadata": {},
   "source": [
    "\n",
    "- Set is the collection of the unordered items.# no order /index\n",
    "\n",
    "- Each element in the set must be unique & immutable.\n",
    "\n",
    "nums = { 1, 2, 3, 4 }\n",
    "\n",
    "set2 = { 1, 2, 2, 2 }#repeated elements stored only once, so it resolved to {1, 2}\n",
    "\n",
    "null_set = set( ) #empty set syntax"
   ]
  },
  {
   "cell_type": "markdown",
   "id": "d300c845",
   "metadata": {},
   "source": [
    " # Set Methods\n",
    "- sets are mutable but elements of sets are immutable \n",
    "\n",
    "        set.add( element ) #adds an element\n",
    "\n",
    "        set.remove( element ) #removes the element \n",
    "\n",
    "        set.clear( ) #empties the set\n",
    "\n",
    "        set.pop( ) #removes a random value \n",
    "\n"
   ]
  },
  {
   "cell_type": "markdown",
   "id": "c6b8155a",
   "metadata": {},
   "source": [
    "set.union( set2 ) #combines both set values & returns new\n",
    "\n",
    "set.intersection( set2 ) #combines common values & returns new"
   ]
  },
  {
   "cell_type": "markdown",
   "id": "f3fb2110",
   "metadata": {},
   "source": [
    "# Let‘s Practice\n",
    "\n",
    "#WAP to enter marks of 3 subjects from the user and store them in a dictionary.\n",
    "\n",
    "#Start with an empty dictionary & add one by one. Use subject name as key & marks as value.\n"
   ]
  },
  {
   "cell_type": "code",
   "execution_count": 181,
   "id": "1c418597",
   "metadata": {},
   "outputs": [],
   "source": [
    "marks = { }"
   ]
  },
  {
   "cell_type": "code",
   "execution_count": 193,
   "id": "c69e2dcf",
   "metadata": {},
   "outputs": [
    {
     "name": "stdout",
     "output_type": "stream",
     "text": [
      "stats marks :35\n",
      "bio marks :45\n",
      "maths marks :65\n"
     ]
    }
   ],
   "source": [
    "x = int(input(\"stats marks :\"))\n",
    "marks.update({\"stats\":x})\n",
    "\n",
    "x = int(input(\"bio marks :\"))\n",
    "marks.update({\"bio\":x})\n",
    "\n",
    "x = int(input(\"maths marks :\"))\n",
    "marks.update({\"maths\":x})\n"
   ]
  },
  {
   "cell_type": "code",
   "execution_count": 194,
   "id": "298b4a09",
   "metadata": {},
   "outputs": [
    {
     "data": {
      "text/plain": [
       "{'stats': 35, 'bio': 45, 'maths': 65}"
      ]
     },
     "execution_count": 194,
     "metadata": {},
     "output_type": "execute_result"
    }
   ],
   "source": [
    "marks\n"
   ]
  },
  {
   "cell_type": "markdown",
   "id": "bd255265",
   "metadata": {},
   "source": [
    "#Figure out a way to store 9 & 9.0 as separate values in the set.\n",
    "\n",
    "#(You can take help of built-in data types)\n"
   ]
  },
  {
   "cell_type": "code",
   "execution_count": 210,
   "id": "813a9bcb",
   "metadata": {},
   "outputs": [
    {
     "data": {
      "text/plain": [
       "{9, '9.0'}"
      ]
     },
     "execution_count": 210,
     "metadata": {},
     "output_type": "execute_result"
    }
   ],
   "source": [
    "values = {9,\"9.0\"}\n",
    "values"
   ]
  },
  {
   "cell_type": "code",
   "execution_count": 209,
   "id": "dd1fb636",
   "metadata": {},
   "outputs": [
    {
     "data": {
      "text/plain": [
       "{('float', 9.0, 'int', 9)}"
      ]
     },
     "execution_count": 209,
     "metadata": {},
     "output_type": "execute_result"
    }
   ],
   "source": [
    "values = {\n",
    "        (\"float\" ,9.0,\n",
    "         \"int\" , 9)\n",
    "    }\n",
    "values"
   ]
  },
  {
   "cell_type": "code",
   "execution_count": 212,
   "id": "aa56cd13",
   "metadata": {},
   "outputs": [
    {
     "data": {
      "text/plain": [
       "set"
      ]
     },
     "execution_count": 212,
     "metadata": {},
     "output_type": "execute_result"
    }
   ],
   "source": [
    "type(values)"
   ]
  },
  {
   "cell_type": "markdown",
   "id": "3a292995",
   "metadata": {},
   "source": [
    "Q #Store following word meanings in a python dictionary :\n",
    "    \n",
    "    - table : “a piece of furniture”,“list of facts & figures”\n",
    "        \n",
    "    - cat : “a small animal”\n"
   ]
  },
  {
   "cell_type": "code",
   "execution_count": 161,
   "id": "492e73ea",
   "metadata": {},
   "outputs": [],
   "source": [
    "dict = {\n",
    "    \"table\" : (\"a piece of furniture\", \"list of facts & figures\"),\n",
    "    \"cat\"   : \"a small animal\"\n",
    "    \n",
    "}"
   ]
  },
  {
   "cell_type": "code",
   "execution_count": 162,
   "id": "5f7acf10",
   "metadata": {},
   "outputs": [
    {
     "data": {
      "text/plain": [
       "{'table': ('a piece of furniture', 'list of facts & figures'),\n",
       " 'cat': 'a small animal'}"
      ]
     },
     "execution_count": 162,
     "metadata": {},
     "output_type": "execute_result"
    }
   ],
   "source": [
    "dict"
   ]
  },
  {
   "cell_type": "raw",
   "id": "8ddc08ce",
   "metadata": {},
   "source": [
    "Q#You are given a list of subjects for students. Assume one classroom is required for 1 subject.\n",
    "\n",
    "#How many classrooms are needed by all students.\n",
    "\n",
    "        \"python\",\"java\",\"C++\",\"python\",\"javascript\",\n",
    "        \"java\",\"python\",\"java\",\"C++\",\"C\""
   ]
  },
  {
   "cell_type": "raw",
   "id": "29a6ae8d",
   "metadata": {},
   "source": [
    "as mentioned above : one classroom is required for 1 subject:\n",
    "so,\n",
    "classroom_1 = \"python\"\n",
    "classroom_2 = \"java\"\n",
    "classroom_3 = \"C++\"\n",
    "classroom_4 = \"C\"\n",
    "classroom_5 = \"javascript\"\n"
   ]
  },
  {
   "cell_type": "code",
   "execution_count": 175,
   "id": "15d56310",
   "metadata": {},
   "outputs": [],
   "source": [
    "subjects = {\"python\",\"java\",\"C++\",\"python\",\"javascript\",\n",
    "        \"java\",\"python\",\"java\",\"C++\",\"C\"}"
   ]
  },
  {
   "cell_type": "code",
   "execution_count": 176,
   "id": "55054ab3",
   "metadata": {},
   "outputs": [
    {
     "data": {
      "text/plain": [
       "5"
      ]
     },
     "execution_count": 176,
     "metadata": {},
     "output_type": "execute_result"
    }
   ],
   "source": [
    "len(subjects)"
   ]
  },
  {
   "cell_type": "markdown",
   "id": "b964ce7e",
   "metadata": {},
   "source": [
    "# Difference between sets and dict:\n",
    "In Python:\n",
    "\n",
    "    - \"A set is a collection of unique elements, while a dictionary is a collection of key-value pairs.\"\n"
   ]
  },
  {
   "cell_type": "markdown",
   "id": "8b203929",
   "metadata": {},
   "source": [
    "# sets:\n",
    "   \n",
    "   - Set Syntax:\n",
    "    \n",
    "        Sets are defined using curly braces {}.\n",
    "        \n",
    "        Elements inside a set are separated by commas.\n",
    "        \n",
    "        Sets can contain only unique elements (no duplicates).\n",
    "    \n",
    "            my_set = {1, 2, 3, 4, 5}\n",
    "            \n",
    "   - Dictionary Syntax:\n",
    "   \n",
    "        Dictionaries are defined using curly braces {}.\n",
    "        \n",
    "        Each element in a dictionary is a key-value pair, separated by a colon :.\n",
    "        \n",
    "        Key-value pairs are separated by commas.\n",
    "\n",
    "            my_dict = {'name': 'John', \n",
    "                       'age': 30, \n",
    "                       'city': 'New York'\n",
    "                       }\n",
    "     \n",
    "in short :\n",
    "        \n",
    "            Sets: {element1, element2, ...}\n",
    "            \n",
    "            Dictionaries: {key1: value1, key2: value2, ...}\n",
    "\n",
    "\n"
   ]
  },
  {
   "cell_type": "markdown",
   "id": "1d0752fa",
   "metadata": {},
   "source": [
    "# Loops in Python"
   ]
  },
  {
   "cell_type": "markdown",
   "id": "ce904408",
   "metadata": {},
   "source": [
    "- Loops are used to repeat instructions.\n",
    "            \n",
    "    # while Loops:\n",
    "            \n",
    "            while condition :\n",
    "            #some work\n",
    "\n",
    "            \n",
    "            \n",
    "                 -      print hello 5 times\n",
    "                        print numbers from 1 to 5\n",
    "\n",
    "                        show infinite, iterator"
   ]
  },
  {
   "cell_type": "code",
   "execution_count": 214,
   "id": "0123185c",
   "metadata": {},
   "outputs": [],
   "source": [
    "#example:\n",
    "#print hello 5 times"
   ]
  },
  {
   "cell_type": "code",
   "execution_count": 225,
   "id": "dbe2952c",
   "metadata": {},
   "outputs": [
    {
     "name": "stdout",
     "output_type": "stream",
     "text": [
      "hello 1\n",
      "hello 2\n",
      "hello 3\n",
      "hello 4\n",
      "hello 5\n"
     ]
    }
   ],
   "source": [
    "i = 1 # iterator (\"A variable that helps us iterate through a loop is called an iterator.\" eg :i,k,j,l....) \n",
    "\n",
    "while i <= 5 :\n",
    "    print(\"hello\",i)\n",
    "    i+=1\n",
    "    "
   ]
  },
  {
   "cell_type": "code",
   "execution_count": 224,
   "id": "98227864",
   "metadata": {},
   "outputs": [
    {
     "name": "stdout",
     "output_type": "stream",
     "text": [
      "6\n"
     ]
    }
   ],
   "source": [
    "print(i)"
   ]
  },
  {
   "cell_type": "code",
   "execution_count": 226,
   "id": "2329549c",
   "metadata": {},
   "outputs": [],
   "source": [
    "#Print numbers from 1 to 100."
   ]
  },
  {
   "cell_type": "code",
   "execution_count": 228,
   "id": "3826b6dc",
   "metadata": {
    "scrolled": true
   },
   "outputs": [
    {
     "name": "stdout",
     "output_type": "stream",
     "text": [
      "hello 1\n",
      "hello 2\n",
      "hello 3\n",
      "hello 4\n",
      "hello 5\n",
      "hello 6\n",
      "hello 7\n",
      "hello 8\n",
      "hello 9\n",
      "hello 10\n",
      "hello 11\n",
      "hello 12\n",
      "hello 13\n",
      "hello 14\n",
      "hello 15\n",
      "hello 16\n",
      "hello 17\n",
      "hello 18\n",
      "hello 19\n",
      "hello 20\n",
      "hello 21\n",
      "hello 22\n",
      "hello 23\n",
      "hello 24\n",
      "hello 25\n",
      "hello 26\n",
      "hello 27\n",
      "hello 28\n",
      "hello 29\n",
      "hello 30\n",
      "hello 31\n",
      "hello 32\n",
      "hello 33\n",
      "hello 34\n",
      "hello 35\n",
      "hello 36\n",
      "hello 37\n",
      "hello 38\n",
      "hello 39\n",
      "hello 40\n",
      "hello 41\n",
      "hello 42\n",
      "hello 43\n",
      "hello 44\n",
      "hello 45\n",
      "hello 46\n",
      "hello 47\n",
      "hello 48\n",
      "hello 49\n",
      "hello 50\n",
      "hello 51\n",
      "hello 52\n",
      "hello 53\n",
      "hello 54\n",
      "hello 55\n",
      "hello 56\n",
      "hello 57\n",
      "hello 58\n",
      "hello 59\n",
      "hello 60\n",
      "hello 61\n",
      "hello 62\n",
      "hello 63\n",
      "hello 64\n",
      "hello 65\n",
      "hello 66\n",
      "hello 67\n",
      "hello 68\n",
      "hello 69\n",
      "hello 70\n",
      "hello 71\n",
      "hello 72\n",
      "hello 73\n",
      "hello 74\n",
      "hello 75\n",
      "hello 76\n",
      "hello 77\n",
      "hello 78\n",
      "hello 79\n",
      "hello 80\n",
      "hello 81\n",
      "hello 82\n",
      "hello 83\n",
      "hello 84\n",
      "hello 85\n",
      "hello 86\n",
      "hello 87\n",
      "hello 88\n",
      "hello 89\n",
      "hello 90\n",
      "hello 91\n",
      "hello 92\n",
      "hello 93\n",
      "hello 94\n",
      "hello 95\n",
      "hello 96\n",
      "hello 97\n",
      "hello 98\n",
      "hello 99\n",
      "hello 100\n"
     ]
    }
   ],
   "source": [
    "#using while loop :\n",
    "\n",
    "i = 1\n",
    "while i <= 100 :\n",
    "    print(\"hello\",i)\n",
    "    i+=1\n",
    "    \n",
    "    "
   ]
  },
  {
   "cell_type": "code",
   "execution_count": 231,
   "id": "18ed195f",
   "metadata": {},
   "outputs": [],
   "source": [
    "#Print numbers from 100 to 1."
   ]
  },
  {
   "cell_type": "code",
   "execution_count": 236,
   "id": "e5441aff",
   "metadata": {
    "scrolled": true
   },
   "outputs": [
    {
     "name": "stdout",
     "output_type": "stream",
     "text": [
      "hello 100\n",
      "hello 99\n",
      "hello 98\n",
      "hello 97\n",
      "hello 96\n",
      "hello 95\n",
      "hello 94\n",
      "hello 93\n",
      "hello 92\n",
      "hello 91\n",
      "hello 90\n",
      "hello 89\n",
      "hello 88\n",
      "hello 87\n",
      "hello 86\n",
      "hello 85\n",
      "hello 84\n",
      "hello 83\n",
      "hello 82\n",
      "hello 81\n",
      "hello 80\n",
      "hello 79\n",
      "hello 78\n",
      "hello 77\n",
      "hello 76\n",
      "hello 75\n",
      "hello 74\n",
      "hello 73\n",
      "hello 72\n",
      "hello 71\n",
      "hello 70\n",
      "hello 69\n",
      "hello 68\n",
      "hello 67\n",
      "hello 66\n",
      "hello 65\n",
      "hello 64\n",
      "hello 63\n",
      "hello 62\n",
      "hello 61\n",
      "hello 60\n",
      "hello 59\n",
      "hello 58\n",
      "hello 57\n",
      "hello 56\n",
      "hello 55\n",
      "hello 54\n",
      "hello 53\n",
      "hello 52\n",
      "hello 51\n",
      "hello 50\n",
      "hello 49\n",
      "hello 48\n",
      "hello 47\n",
      "hello 46\n",
      "hello 45\n",
      "hello 44\n",
      "hello 43\n",
      "hello 42\n",
      "hello 41\n",
      "hello 40\n",
      "hello 39\n",
      "hello 38\n",
      "hello 37\n",
      "hello 36\n",
      "hello 35\n",
      "hello 34\n",
      "hello 33\n",
      "hello 32\n",
      "hello 31\n",
      "hello 30\n",
      "hello 29\n",
      "hello 28\n",
      "hello 27\n",
      "hello 26\n",
      "hello 25\n",
      "hello 24\n",
      "hello 23\n",
      "hello 22\n",
      "hello 21\n",
      "hello 20\n",
      "hello 19\n",
      "hello 18\n",
      "hello 17\n",
      "hello 16\n",
      "hello 15\n",
      "hello 14\n",
      "hello 13\n",
      "hello 12\n",
      "hello 11\n",
      "hello 10\n",
      "hello 9\n",
      "hello 8\n",
      "hello 7\n",
      "hello 6\n",
      "hello 5\n",
      "hello 4\n",
      "hello 3\n",
      "hello 2\n",
      "hello 1\n"
     ]
    }
   ],
   "source": [
    "#using while loop :\n",
    "\n",
    "i = 100\n",
    "while i >= 1 :\n",
    "    print(\"hello\",i)\n",
    "    i-=1\n",
    "    "
   ]
  },
  {
   "cell_type": "code",
   "execution_count": 237,
   "id": "379e3364",
   "metadata": {},
   "outputs": [],
   "source": [
    "#Print the multiplication table of a number n."
   ]
  },
  {
   "cell_type": "code",
   "execution_count": 242,
   "id": "ae54c277",
   "metadata": {},
   "outputs": [
    {
     "name": "stdout",
     "output_type": "stream",
     "text": [
      "enter a number :5\n",
      "0\n",
      "5\n",
      "10\n",
      "15\n",
      "20\n",
      "25\n",
      "30\n",
      "35\n",
      "40\n",
      "45\n",
      "50\n",
      "11\n"
     ]
    }
   ],
   "source": [
    "number = int(input(\"enter a number :\"))\n",
    "\n",
    "i= 0 #initialization\n",
    "\n",
    "while i <=10: # condition\n",
    "    print(number*i)\n",
    "    i+=1 #update \n",
    "print(i)"
   ]
  },
  {
   "cell_type": "code",
   "execution_count": 257,
   "id": "e5341668",
   "metadata": {},
   "outputs": [],
   "source": [
    "#Print the elements of the following list using a loop:\n",
    "\n",
    "#[1, 4, 9, 16, 25, 36, 49, 64, 81,100]\n",
    "\n",
    "\n",
    "# logic :\n",
    "#               nums[0],\n",
    "#               num[1],\n",
    "#               num[2],\n",
    "#               .....like use of indexing in loop we get the numbers inside the list present ."
   ]
  },
  {
   "cell_type": "code",
   "execution_count": 255,
   "id": "368d5d51",
   "metadata": {},
   "outputs": [
    {
     "name": "stdout",
     "output_type": "stream",
     "text": [
      "1\n",
      "4\n",
      "9\n",
      "16\n",
      "25\n",
      "36\n",
      "49\n",
      "64\n",
      "81\n",
      "100\n"
     ]
    }
   ],
   "source": [
    "# its called traverse\n",
    "\n",
    "nums = [1, 4, 9, 16, 25, 36, 49, 64, 81,100]\n",
    "\n",
    "idx = 0 # idx represent index \n",
    "\n",
    "while idx < len(nums):\n",
    "    print(nums[idx])#num[0],num[1],num[2]....\n",
    "    idx+=1"
   ]
  },
  {
   "cell_type": "code",
   "execution_count": 259,
   "id": "ac3e8a56",
   "metadata": {},
   "outputs": [],
   "source": [
    "#Search for a number x in this tuple using loop:\n",
    "#[1, 4, 9, 16, 25, 36, 49, 64, 81,100]"
   ]
  },
  {
   "cell_type": "code",
   "execution_count": 265,
   "id": "865867ea",
   "metadata": {},
   "outputs": [
    {
     "name": "stdout",
     "output_type": "stream",
     "text": [
      "finding\n",
      "finding\n",
      "finding\n",
      "finding\n",
      "finding\n",
      "found 5\n",
      "finding\n",
      "finding\n",
      "found 8\n",
      "finding\n",
      "finding\n"
     ]
    }
   ],
   "source": [
    "num = [1, 4, 9, 16, 25, 36, 49, 64,36,81,100]\n",
    "\n",
    "x = 36\n",
    "\n",
    "i = 0\n",
    "\n",
    "while i < len(num):\n",
    "    if x == num[i]:\n",
    "        print(\"found\" , i)\n",
    "    else:\n",
    "        print(\"finding\")\n",
    "    i+=1"
   ]
  },
  {
   "cell_type": "markdown",
   "id": "81610046",
   "metadata": {},
   "source": [
    "# Break & Continue"
   ]
  },
  {
   "cell_type": "markdown",
   "id": "4d5eb930",
   "metadata": {},
   "source": [
    "\n",
    "- Break : used to terminate the loop when encountered.\n",
    "\n",
    "- Continue : terminates execution in the current iteration & continues execution of the loop\n",
    "    with the next iteration.\n",
    "    \n",
    "take search example\n",
    "\n",
    "& stop the search when found\n",
    "\n",
    "print all numbers but not multiple of 3\n"
   ]
  },
  {
   "cell_type": "code",
   "execution_count": 282,
   "id": "0156e74e",
   "metadata": {},
   "outputs": [
    {
     "name": "stdout",
     "output_type": "stream",
     "text": [
      "1\n",
      "2\n",
      "3\n"
     ]
    }
   ],
   "source": [
    "i=1\n",
    "\n",
    "while i <=5:\n",
    "    print(i)\n",
    "    if(i==3):\n",
    "        break\n",
    "    i+=1"
   ]
  },
  {
   "cell_type": "code",
   "execution_count": 92,
   "id": "1aacd4a8",
   "metadata": {},
   "outputs": [
    {
     "name": "stdout",
     "output_type": "stream",
     "text": [
      "found 5\n"
     ]
    }
   ],
   "source": [
    "#Linear search :search in a single line \n",
    "num = [1, 4, 9, 16, 25, 36, 49, 64,36,81,100]\n",
    "\n",
    "x = 36\n",
    "\n",
    "i = 0\n",
    "\n",
    "while i < len(num):\n",
    "    if x == num[i]:\n",
    "        print(\"found\" , i)\n",
    "        break\n",
    "    i+=1"
   ]
  },
  {
   "cell_type": "code",
   "execution_count": 293,
   "id": "ac238fc0",
   "metadata": {},
   "outputs": [
    {
     "name": "stdout",
     "output_type": "stream",
     "text": [
      "1\n",
      "2\n",
      "4\n",
      "5\n"
     ]
    }
   ],
   "source": [
    "i=1\n",
    "\n",
    "while i <=5:\n",
    "    if(i==3):\n",
    "        i+=1\n",
    "        continue # skip \n",
    "    print(i)\n",
    "    i+=1"
   ]
  },
  {
   "cell_type": "code",
   "execution_count": 299,
   "id": "abdf2872",
   "metadata": {},
   "outputs": [
    {
     "name": "stdout",
     "output_type": "stream",
     "text": [
      "1\n",
      "3\n",
      "5\n",
      "7\n",
      "9\n"
     ]
    }
   ],
   "source": [
    "# odd numbers \n",
    "i=1\n",
    "\n",
    "while i <=10:\n",
    "    if(i%2 == 0):\n",
    "        i+=1\n",
    "        continue # skip \n",
    "    print(i)\n",
    "    i+=1"
   ]
  },
  {
   "cell_type": "markdown",
   "id": "9eeaaeb8",
   "metadata": {},
   "source": [
    "# for Loops in Python"
   ]
  },
  {
   "cell_type": "code",
   "execution_count": 2,
   "id": "67c93126",
   "metadata": {},
   "outputs": [],
   "source": [
    "#Loops are used  for sequential traversal. For traversing list, string, tuples etc."
   ]
  },
  {
   "cell_type": "markdown",
   "id": "9a571cc1",
   "metadata": {},
   "source": [
    "# syntax:\n",
    "\n",
    "#for item in iterable:\n",
    "\n",
    "#Code block to be executed for each item\n"
   ]
  },
  {
   "cell_type": "raw",
   "id": "8a148b37",
   "metadata": {},
   "source": [
    "#for loop with else :\n",
    "\n",
    "for el in list:\n",
    "#some work\n",
    "for Loop with else\n",
    "\n",
    "else: this is optional\n",
    "    #work when loop ends"
   ]
  },
  {
   "cell_type": "markdown",
   "id": "c1299a41",
   "metadata": {},
   "source": [
    "# # range( )"
   ]
  },
  {
   "cell_type": "markdown",
   "id": "e9d934c7",
   "metadata": {},
   "source": [
    "#range( ):\n",
    "\n",
    "    - Range functions returns a sequence of numbers, starting from 0 by default, \n",
    "    and increments by 1 (by default), and stops before a specified number.    \n",
    "\n",
    "   # range( start?, stop, step?)\n"
   ]
  },
  {
   "cell_type": "code",
   "execution_count": 84,
   "id": "d23acff6",
   "metadata": {},
   "outputs": [],
   "source": [
    "# range( start?, stop, step?)\n",
    "#start is optional and step also but stop is needed"
   ]
  },
  {
   "cell_type": "code",
   "execution_count": 87,
   "id": "b9d80f80",
   "metadata": {},
   "outputs": [
    {
     "name": "stdout",
     "output_type": "stream",
     "text": [
      "0\n",
      "1\n",
      "2\n",
      "3\n",
      "4\n"
     ]
    }
   ],
   "source": [
    "#example :\n",
    "for num in range(5):\n",
    "    print(num)"
   ]
  },
  {
   "cell_type": "code",
   "execution_count": 81,
   "id": "bb11970d",
   "metadata": {},
   "outputs": [
    {
     "name": "stdout",
     "output_type": "stream",
     "text": [
      "0\n",
      "1\n",
      "2\n",
      "3\n",
      "4\n",
      "5\n"
     ]
    }
   ],
   "source": [
    "for num in range(0,6,1):#start = 0,step = 1 ,stop/end = 6\n",
    "    print(num)# ending no is not included"
   ]
  },
  {
   "cell_type": "code",
   "execution_count": 82,
   "id": "0f0f1316",
   "metadata": {},
   "outputs": [
    {
     "name": "stdout",
     "output_type": "stream",
     "text": [
      "0\n",
      "1\n",
      "2\n",
      "3\n",
      "4\n",
      "5\n",
      "6\n",
      "7\n",
      "8\n",
      "9\n"
     ]
    }
   ],
   "source": [
    "seq = range(10)\n",
    "\n",
    "for i in seq:\n",
    "    print(i)"
   ]
  },
  {
   "cell_type": "code",
   "execution_count": 91,
   "id": "c90193fb",
   "metadata": {
    "scrolled": true
   },
   "outputs": [
    {
     "name": "stdout",
     "output_type": "stream",
     "text": [
      "2\n",
      "4\n",
      "6\n",
      "8\n",
      "10\n",
      "12\n",
      "14\n",
      "16\n",
      "18\n",
      "20\n",
      "22\n",
      "24\n",
      "26\n",
      "28\n",
      "30\n",
      "32\n",
      "34\n",
      "36\n",
      "38\n",
      "40\n",
      "42\n",
      "44\n",
      "46\n",
      "48\n",
      "50\n",
      "52\n",
      "54\n",
      "56\n",
      "58\n",
      "60\n",
      "62\n",
      "64\n",
      "66\n",
      "68\n",
      "70\n",
      "72\n",
      "74\n",
      "76\n",
      "78\n",
      "80\n",
      "82\n",
      "84\n",
      "86\n",
      "88\n",
      "90\n",
      "92\n",
      "94\n",
      "96\n",
      "98\n",
      "100\n"
     ]
    }
   ],
   "source": [
    "#Even numbers print :\n",
    "for i in range(2,101,2):\n",
    "    print (i)\n"
   ]
  },
  {
   "cell_type": "code",
   "execution_count": 94,
   "id": "748461bd",
   "metadata": {},
   "outputs": [],
   "source": [
    "#Print numbers from 1 to 100.\n"
   ]
  },
  {
   "cell_type": "code",
   "execution_count": 101,
   "id": "339e1cc4",
   "metadata": {
    "scrolled": true
   },
   "outputs": [
    {
     "name": "stdout",
     "output_type": "stream",
     "text": [
      "1\n",
      "2\n",
      "3\n",
      "4\n",
      "5\n",
      "6\n",
      "7\n",
      "8\n",
      "9\n",
      "10\n",
      "11\n",
      "12\n",
      "13\n",
      "14\n",
      "15\n",
      "16\n",
      "17\n",
      "18\n",
      "19\n",
      "20\n",
      "21\n",
      "22\n",
      "23\n",
      "24\n",
      "25\n",
      "26\n",
      "27\n",
      "28\n",
      "29\n",
      "30\n",
      "31\n",
      "32\n",
      "33\n",
      "34\n",
      "35\n",
      "36\n",
      "37\n",
      "38\n",
      "39\n",
      "40\n",
      "41\n",
      "42\n",
      "43\n",
      "44\n",
      "45\n",
      "46\n",
      "47\n",
      "48\n",
      "49\n",
      "50\n",
      "51\n",
      "52\n",
      "53\n",
      "54\n",
      "55\n",
      "56\n",
      "57\n",
      "58\n",
      "59\n",
      "60\n",
      "61\n",
      "62\n",
      "63\n",
      "64\n",
      "65\n",
      "66\n",
      "67\n",
      "68\n",
      "69\n",
      "70\n",
      "71\n",
      "72\n",
      "73\n",
      "74\n",
      "75\n",
      "76\n",
      "77\n",
      "78\n",
      "79\n",
      "80\n",
      "81\n",
      "82\n",
      "83\n",
      "84\n",
      "85\n",
      "86\n",
      "87\n",
      "88\n",
      "89\n",
      "90\n",
      "91\n",
      "92\n",
      "93\n",
      "94\n",
      "95\n",
      "96\n",
      "97\n",
      "98\n",
      "99\n",
      "100\n"
     ]
    }
   ],
   "source": [
    "for i in range(1,101,1):\n",
    "    print(i)"
   ]
  },
  {
   "cell_type": "code",
   "execution_count": null,
   "id": "74a04c79",
   "metadata": {},
   "outputs": [],
   "source": [
    "#Print numbers from 100 to 1.\n"
   ]
  },
  {
   "cell_type": "code",
   "execution_count": 103,
   "id": "e063bb35",
   "metadata": {
    "scrolled": true
   },
   "outputs": [
    {
     "name": "stdout",
     "output_type": "stream",
     "text": [
      "101\n",
      "100\n",
      "99\n",
      "98\n",
      "97\n",
      "96\n",
      "95\n",
      "94\n",
      "93\n",
      "92\n",
      "91\n",
      "90\n",
      "89\n",
      "88\n",
      "87\n",
      "86\n",
      "85\n",
      "84\n",
      "83\n",
      "82\n",
      "81\n",
      "80\n",
      "79\n",
      "78\n",
      "77\n",
      "76\n",
      "75\n",
      "74\n",
      "73\n",
      "72\n",
      "71\n",
      "70\n",
      "69\n",
      "68\n",
      "67\n",
      "66\n",
      "65\n",
      "64\n",
      "63\n",
      "62\n",
      "61\n",
      "60\n",
      "59\n",
      "58\n",
      "57\n",
      "56\n",
      "55\n",
      "54\n",
      "53\n",
      "52\n",
      "51\n",
      "50\n",
      "49\n",
      "48\n",
      "47\n",
      "46\n",
      "45\n",
      "44\n",
      "43\n",
      "42\n",
      "41\n",
      "40\n",
      "39\n",
      "38\n",
      "37\n",
      "36\n",
      "35\n",
      "34\n",
      "33\n",
      "32\n",
      "31\n",
      "30\n",
      "29\n",
      "28\n",
      "27\n",
      "26\n",
      "25\n",
      "24\n",
      "23\n",
      "22\n",
      "21\n",
      "20\n",
      "19\n",
      "18\n",
      "17\n",
      "16\n",
      "15\n",
      "14\n",
      "13\n",
      "12\n",
      "11\n",
      "10\n",
      "9\n",
      "8\n",
      "7\n",
      "6\n",
      "5\n",
      "4\n",
      "3\n",
      "2\n",
      "1\n"
     ]
    }
   ],
   "source": [
    "for i in range(101,0,-1):\n",
    "    print(i)"
   ]
  },
  {
   "cell_type": "markdown",
   "id": "31f9de1a",
   "metadata": {},
   "source": [
    "# using for & range( )"
   ]
  },
  {
   "cell_type": "code",
   "execution_count": null,
   "id": "63d2a94a",
   "metadata": {},
   "outputs": [],
   "source": [
    "#Print the multiplication table of a number n."
   ]
  },
  {
   "cell_type": "code",
   "execution_count": 134,
   "id": "0a11a650",
   "metadata": {},
   "outputs": [
    {
     "name": "stdout",
     "output_type": "stream",
     "text": [
      "enter number:28\n",
      "28\n",
      "56\n",
      "84\n",
      "112\n",
      "140\n",
      "168\n",
      "196\n",
      "224\n",
      "252\n",
      "280\n"
     ]
    }
   ],
   "source": [
    "n = int(input(\"enter number:\"))\n",
    "\n",
    "for i in range (1,11,1):\n",
    "    print(i*n)"
   ]
  },
  {
   "cell_type": "markdown",
   "id": "a9ed4d6f",
   "metadata": {},
   "source": [
    "## Pass Statement\n",
    "\n",
    "- pass is a null statement that does nothing. It is used as a placeholder for future code."
   ]
  },
  {
   "cell_type": "code",
   "execution_count": 138,
   "id": "50097802",
   "metadata": {},
   "outputs": [
    {
     "name": "stdout",
     "output_type": "stream",
     "text": [
      "some space\n"
     ]
    }
   ],
   "source": [
    "for i in range(5):\n",
    "    pass #no work in loop \n",
    "\n",
    "print(\"some space\")"
   ]
  },
  {
   "cell_type": "code",
   "execution_count": null,
   "id": "b77840c9",
   "metadata": {},
   "outputs": [],
   "source": []
  },
  {
   "cell_type": "code",
   "execution_count": null,
   "id": "e69cc917",
   "metadata": {},
   "outputs": [],
   "source": []
  },
  {
   "cell_type": "markdown",
   "id": "1a3d925b",
   "metadata": {},
   "source": [
    "my_list = [1, 2, 3, 4, 5]\n",
    "\n",
    "for num in my_list:\n",
    "\n",
    "    print(num)\n"
   ]
  },
  {
   "cell_type": "code",
   "execution_count": 3,
   "id": "28fc6e98",
   "metadata": {},
   "outputs": [
    {
     "name": "stdout",
     "output_type": "stream",
     "text": [
      "1\n",
      "2\n",
      "3\n",
      "4\n",
      "5\n"
     ]
    }
   ],
   "source": [
    "my_list = [1, 2, 3, 4, 5]\n",
    "\n",
    "for num in my_list:# item = num , my_list = iterable \n",
    "        print(num)\n"
   ]
  },
  {
   "cell_type": "code",
   "execution_count": 8,
   "id": "2d30e340",
   "metadata": {},
   "outputs": [
    {
     "name": "stdout",
     "output_type": "stream",
     "text": [
      "D\n",
      "a\n",
      "t\n",
      "a\n",
      "s\n",
      "c\n",
      "i\n",
      "e\n",
      "n\n",
      "c\n",
      "e\n"
     ]
    }
   ],
   "source": [
    "str = \"Datascience\"\n",
    "\n",
    "for char in str:\n",
    "    print(char)"
   ]
  },
  {
   "cell_type": "code",
   "execution_count": 15,
   "id": "7804fe55",
   "metadata": {},
   "outputs": [
    {
     "name": "stdout",
     "output_type": "stream",
     "text": [
      "a\n",
      "p\n",
      "n\n",
      "a\n",
      "c\n",
      "o found\n",
      "END\n"
     ]
    }
   ],
   "source": [
    "str = \"apnacollege\"\n",
    "\n",
    "for char in str:\n",
    "    if(char == 'o'):\n",
    "        print(\"o found\")\n",
    "        break\n",
    "    print(char)\n",
    "print(\"END\")\n",
    "\n",
    "\n"
   ]
  },
  {
   "cell_type": "raw",
   "id": "4b4b086b",
   "metadata": {},
   "source": [
    "#Print the elements of the following list using a loop:\n",
    "[1, 4, 9, 16, 25, 36, 49, 64, 81,100]"
   ]
  },
  {
   "cell_type": "code",
   "execution_count": 274,
   "id": "72a6437f",
   "metadata": {},
   "outputs": [
    {
     "name": "stdout",
     "output_type": "stream",
     "text": [
      "1\n",
      "4\n",
      "9\n",
      "16\n",
      "25\n",
      "36\n",
      "49\n",
      "64\n",
      "81\n",
      "100\n"
     ]
    }
   ],
   "source": [
    "num_list = [1, 4, 9, 16, 25, 36, 49, 64, 81,100]\n",
    "\n",
    "for num in num_list:\n",
    "    print(num)\n",
    "\n"
   ]
  },
  {
   "cell_type": "code",
   "execution_count": 93,
   "id": "c6782915",
   "metadata": {},
   "outputs": [],
   "source": [
    "#Linear search :\n",
    "#Search for a number x in this tuple using loop:\n",
    "#[1, 4, 9, 16, 25, 36, 49, 64, 81,100]"
   ]
  },
  {
   "cell_type": "code",
   "execution_count": 36,
   "id": "1138679c",
   "metadata": {},
   "outputs": [
    {
     "name": "stdout",
     "output_type": "stream",
     "text": [
      "1\n",
      "4\n",
      "9\n",
      "16\n",
      "25\n",
      "36\n",
      "num found at index:  6\n"
     ]
    }
   ],
   "source": [
    "num_list = [1, 4, 9, 16, 25, 36, 49, 64, 81,100]\n",
    "\n",
    "x = 49\n",
    "\n",
    "idx = 0\n",
    "\n",
    "for num in num_list:\n",
    "    if (num == x):\n",
    "        print(\"num found at index: \",idx)\n",
    "        break\n",
    "    idx += 1\n",
    "    print(num)\n"
   ]
  },
  {
   "cell_type": "markdown",
   "id": "6f63e612",
   "metadata": {},
   "source": [
    "# Questions :"
   ]
  },
  {
   "cell_type": "code",
   "execution_count": 39,
   "id": "f4f6d452",
   "metadata": {},
   "outputs": [],
   "source": [
    "#Sum of Numbers: Write a Python program to calculate the sum of all the numbers in a given list.\n"
   ]
  },
  {
   "cell_type": "code",
   "execution_count": 155,
   "id": "6193e9fc",
   "metadata": {},
   "outputs": [
    {
     "name": "stdout",
     "output_type": "stream",
     "text": [
      "[1, 2, 3, 4, 5, 6, 7, 8, 9, 10] sum = 55\n"
     ]
    }
   ],
   "source": [
    "nums = [1, 2, 3, 4, 5, 6, 7, 8, 9, 10]\n",
    "\n",
    "sum = 0 #iterator\n",
    "\n",
    "\n",
    "for i in nums:  #Iterate through each number in the list\n",
    "    sum += i  #Add the current number to the sum\n",
    "\n",
    "print(nums,\"sum =\",sum)\n",
    "\n",
    "    "
   ]
  },
  {
   "cell_type": "code",
   "execution_count": 40,
   "id": "a6e1064c",
   "metadata": {},
   "outputs": [],
   "source": [
    "#Count Even Numbers: Write a Python program to count the number of even numbers in a given list.\n"
   ]
  },
  {
   "cell_type": "code",
   "execution_count": 59,
   "id": "e67710fa",
   "metadata": {},
   "outputs": [
    {
     "name": "stdout",
     "output_type": "stream",
     "text": [
      "2\n",
      "4\n",
      "6\n",
      "8\n",
      "10\n",
      "count of even no : 5\n"
     ]
    }
   ],
   "source": [
    "nums = [1, 2, 3, 4, 5, 6, 7, 8, 9, 10]\n",
    "\n",
    "count_even = 0\n",
    "\n",
    "for num in nums:\n",
    "    if(num % 2 == 0):\n",
    "        print(num)\n",
    "        count_even+=1\n",
    "\n",
    "print(\"count of even no :\",count_even)        "
   ]
  },
  {
   "cell_type": "code",
   "execution_count": null,
   "id": "a1fedf66",
   "metadata": {},
   "outputs": [],
   "source": [
    "#Reverse a String: Write a Python program to reverse a given string using a for loop."
   ]
  },
  {
   "cell_type": "code",
   "execution_count": 175,
   "id": "ed55b33b",
   "metadata": {},
   "outputs": [
    {
     "name": "stdout",
     "output_type": "stream",
     "text": [
      "String: alexa\n",
      "Reversed String: axela\n"
     ]
    }
   ],
   "source": [
    "# Define the input string\n",
    "string = \"alexa\"\n",
    "\n",
    "# Initialize an empty string to store the reversed string\n",
    "reversed_string = \"\"\n",
    "\n",
    "# Iterate over the input string in reverse order using a for loop\n",
    "for char in string[::-1]:\n",
    "    reversed_string += char\n",
    "\n",
    "# Print the reversed string\n",
    "print(\"String:\", string)\n",
    "print(\"Reversed String:\", reversed_string)\n"
   ]
  },
  {
   "cell_type": "markdown",
   "id": "9c433cc5",
   "metadata": {},
   "source": [
    "# nested loop "
   ]
  },
  {
   "cell_type": "code",
   "execution_count": null,
   "id": "7b103899",
   "metadata": {},
   "outputs": [],
   "source": [
    "#Pattern Printing: Write a Python program to print the following pattern using nested loops:\n",
    "                    \"\"\"\n",
    "                    1\n",
    "                    1 2\n",
    "                    1 2 3\n",
    "                    1 2 3 4\n",
    "                    1 2 3 4 5\n",
    "\n",
    "                    \"\"\"\n"
   ]
  },
  {
   "cell_type": "code",
   "execution_count": 121,
   "id": "d3f40b97",
   "metadata": {},
   "outputs": [],
   "source": [
    "#Explaining of code :\n",
    "\n",
    "#1.We're asking the user to input a number (num) using input() function.\n",
    "\n",
    "#We're iterating over a range of numbers from 1 to num using a loop (for i in range(1, num+1):).\n",
    "\n",
    "#For each number i, we're iterating over another range from 1 to i using another loop (for j in range(1, i+1):).\n",
    "\n",
    "#Within the inner loop, we're printing the value of j followed by a space to keep the numbers in the same line (print(j, end=\" \")).\n",
    "\n",
    "#After each inner loop, we print an empty print() statement to move to the next line for the next set of numbers."
   ]
  },
  {
   "cell_type": "code",
   "execution_count": 124,
   "id": "2a3bf6b3",
   "metadata": {},
   "outputs": [
    {
     "name": "stdout",
     "output_type": "stream",
     "text": [
      " enter number :5\n",
      "1 \n",
      "1 2 \n",
      "1 2 3 \n",
      "1 2 3 4 \n",
      "1 2 3 4 5 \n"
     ]
    }
   ],
   "source": [
    "num = int (input(\" enter number :\"))\n",
    "\n",
    "for i in range(1,num+1):\n",
    "    for j in range(1,i+1):\n",
    "        print(j, end = \" \")\n",
    "\n",
    "    print( ) #print an empty print() statement to move to the next line for the next set of numbers\n",
    "        "
   ]
  },
  {
   "cell_type": "code",
   "execution_count": null,
   "id": "afa85d13",
   "metadata": {},
   "outputs": [],
   "source": [
    "#Palindrome Check: Write a Python program to check if a given string is a palindrome or not using a for loop.\n"
   ]
  },
  {
   "cell_type": "code",
   "execution_count": 129,
   "id": "7cc29b35",
   "metadata": {},
   "outputs": [
    {
     "name": "stdout",
     "output_type": "stream",
     "text": [
      "enter a string:1,2,3\n",
      "its not a palindrome: 1,2,3\n"
     ]
    }
   ],
   "source": [
    "string = input(\"enter a string:\")\n",
    "\n",
    "def ispalindrome(string):\n",
    "    if (string == string[::-1]):\n",
    "        print(\"its a palindrome:\",string)\n",
    "    else:    \n",
    "        print(\"its not a palindrome:\",string)\n",
    "\n",
    "string_check = ispalindrome(string)\n",
    "\n",
    "string_check\n"
   ]
  },
  {
   "cell_type": "code",
   "execution_count": 133,
   "id": "7b7403df",
   "metadata": {},
   "outputs": [],
   "source": [
    "#Fibonacci Sequence: Write a Python program to generate the Fibonacci sequence up to a given number of terms.\n",
    "\n",
    "#Fibonacci Sequence: In the Fibonacci sequence, each number is the sum of the two preceding ones.\n",
    "#It starts with 0 and 1, and then each subsequent number is the sum of the previous two. \n",
    "#So, the Fibonacci sequence goes like this: 0, 1, 1, 2, 3, 5, 8, 13, and so on."
   ]
  },
  {
   "cell_type": "raw",
   "id": "19d34cfe",
   "metadata": {},
   "source": [
    "lets take :\n",
    "0,1,2,3,4,5\n",
    "\n",
    "so the sequence is like : \n",
    "starts with 0 and 1\n",
    "\n",
    "1 = (1+0) = 1,\n",
    "2 = (2+1) = 2,\n",
    "3 = (3+2) = 5,\n",
    "4 = (4+5) = 8,\n",
    "5 = (5+8) = 13,.....like this \n"
   ]
  },
  {
   "cell_type": "code",
   "execution_count": 181,
   "id": "84c6234c",
   "metadata": {},
   "outputs": [
    {
     "name": "stdout",
     "output_type": "stream",
     "text": [
      "Enter the number of terms: 10\n",
      "Fibonacci Sequence:\n",
      "0\n",
      "1\n",
      "1\n",
      "2\n",
      "3\n",
      "5\n",
      "8\n",
      "13\n",
      "21\n",
      "34\n"
     ]
    }
   ],
   "source": [
    "def fibonacci_sequence(num_terms):\n",
    "    \n",
    "    a, b = 0, 1\n",
    "    fibonacci_series = []\n",
    "\n",
    "    for _ in range(num_terms):\n",
    "        fibonacci_series.append(a)\n",
    "\n",
    "#a=b,b=c,c=a+b(swaping: where we assign value of a in b , and then value of b in c anf then c value  = a+b)        \n",
    "        a, b = b, a + b # in short like this \n",
    "# where b takes the value of a, and a takes the sum of a and b \n",
    "  \n",
    "    return fibonacci_series\n",
    "def main():\n",
    "    num_terms = int(input(\"Enter the number of terms: \"))\n",
    "\n",
    "    # Generate the Fibonacci sequence\n",
    "    sequence = fibonacci_sequence(num_terms)\n",
    "\n",
    "    # Print the Fibonacci sequence\n",
    "    print(\"Fibonacci Sequence:\")\n",
    "    for term in sequence:\n",
    "        print(term)\n",
    "\n",
    "# Call the main function directly\n",
    "main()\n"
   ]
  },
  {
   "cell_type": "code",
   "execution_count": 179,
   "id": "1f87a76d",
   "metadata": {},
   "outputs": [
    {
     "name": "stdout",
     "output_type": "stream",
     "text": [
      "Enter the number of terms: 10\n",
      "Fibonacci Sequence:\n",
      "[0, 1, 1, 2, 3, 5, 8, 13, 21, 34]\n"
     ]
    }
   ],
   "source": [
    "def fibonacci_sequence(num_terms):\n",
    "    a, b = 0, 1\n",
    "    fibonacci_series = []\n",
    "\n",
    "    for _ in range(num_terms):\n",
    "        fibonacci_series.append(a)\n",
    "        a, b = b, a + b  # Update Fibonacci sequence values\n",
    "\n",
    "    return fibonacci_series\n",
    "\n",
    "def main():\n",
    "    num_terms = int(input(\"Enter the number of terms: \"))\n",
    "\n",
    "    # Generate the Fibonacci sequence\n",
    "    sequence = fibonacci_sequence(num_terms)\n",
    "\n",
    "    # Print the Fibonacci sequence\n",
    "    print(\"Fibonacci Sequence:\")\n",
    "    print(sequence)\n",
    "\n",
    "# Call the main function directly\n",
    "main()\n"
   ]
  },
  {
   "cell_type": "code",
   "execution_count": 188,
   "id": "26e69883",
   "metadata": {},
   "outputs": [
    {
     "name": "stdout",
     "output_type": "stream",
     "text": [
      "Enter the number for Fibonacci sequence: 10\n",
      "Fibonacci Sequence: [0, 1, 1, 2, 3, 5, 8, 13, 21, 34]\n"
     ]
    }
   ],
   "source": [
    "#using only for loops \n",
    "\n",
    "sequence = [0, 1]  # Start with the first two terms\n",
    "\n",
    "for _ in range(2, num_terms):\n",
    "    sequence.append(sequence[-1] + sequence[-2])  # Add the next term by summing the last two terms\n",
    "\n",
    "num_terms = int(input(\"Enter the number for Fibonacci sequence: \"))    \n",
    "print(\"Fibonacci Sequence:\", sequence)\n"
   ]
  },
  {
   "cell_type": "code",
   "execution_count": 193,
   "id": "14edfcb9",
   "metadata": {},
   "outputs": [
    {
     "name": "stdout",
     "output_type": "stream",
     "text": [
      "Enter the number of terms for Fibonacci sequence: 10\n",
      "Fibonacci sequence : [0, 1, 1, 2, 3, 5, 8, 13, 21, 34]\n"
     ]
    }
   ],
   "source": [
    "#making function :\n",
    "\n",
    "def fibonacci(num_terms):\n",
    "    sequence = [0, 1]  # Initialize the Fibonacci sequence with the first two terms\n",
    "\n",
    "    # Generate Fibonacci sequence up to num_terms terms\n",
    "    for _ in range(2, num_terms):\n",
    "\n",
    "        sequence.append(sequence[-1] + sequence[-2])  \n",
    "\n",
    "    return sequence\n",
    "\n",
    "# Example usage:\n",
    "num_terms = int(input(\"Enter the number of terms for Fibonacci sequence: \"))\n",
    "sequence = fibonacci(num_terms)\n",
    "print(\"Fibonacci sequence :\", sequence)\n"
   ]
  },
  {
   "cell_type": "raw",
   "id": "a76cce33",
   "metadata": {},
   "source": [
    "#Q Factorial Calculation: Write a Python program to calculate the factorial of a given number using a for loop.\n"
   ]
  },
  {
   "cell_type": "code",
   "execution_count": 67,
   "id": "952fdefe",
   "metadata": {},
   "outputs": [
    {
     "name": "stdout",
     "output_type": "stream",
     "text": [
      "factorial of number: 5 = 120\n"
     ]
    }
   ],
   "source": [
    "fact = 1\n",
    "n = 5\n",
    "\n",
    "for i in range (1, n+1):\n",
    "    fact*=i\n",
    "    \n",
    "print(\"factorial of number:\",i,\"=\",fact)"
   ]
  },
  {
   "cell_type": "code",
   "execution_count": 139,
   "id": "d5b0e700",
   "metadata": {},
   "outputs": [],
   "source": [
    "#Let‘s Practice"
   ]
  },
  {
   "cell_type": "code",
   "execution_count": 140,
   "id": "70d4e7f8",
   "metadata": {},
   "outputs": [],
   "source": [
    "#WAP to find the sum of first n numbers. "
   ]
  },
  {
   "cell_type": "code",
   "execution_count": 158,
   "id": "353da91f",
   "metadata": {},
   "outputs": [
    {
     "name": "stdout",
     "output_type": "stream",
     "text": [
      "enter numbers:5\n",
      "total sum : 15\n"
     ]
    }
   ],
   "source": [
    "n = int(input(\"enter numbers:\"))\n",
    "\n",
    "sum = 0\n",
    "\n",
    "i =1\n",
    "\n",
    "while i <= n:\n",
    "    sum +=i\n",
    "    i+=1\n",
    "    \n",
    "print(\"total sum :\",sum )\n",
    "    "
   ]
  },
  {
   "cell_type": "code",
   "execution_count": 159,
   "id": "ca4447b9",
   "metadata": {},
   "outputs": [],
   "source": [
    "#Using for loop :"
   ]
  },
  {
   "cell_type": "code",
   "execution_count": 196,
   "id": "1f7dda66",
   "metadata": {},
   "outputs": [
    {
     "name": "stdout",
     "output_type": "stream",
     "text": [
      "enter numbers:5\n",
      "total sum : 15\n"
     ]
    }
   ],
   "source": [
    "n = int(input(\"enter numbers:\"))\n",
    "\n",
    "sum = 0\n",
    "\n",
    "for i in range (1,n+1):\n",
    "    sum +=i\n",
    "    \n",
    "\n",
    "print(\"total sum :\",sum )\n",
    "    "
   ]
  },
  {
   "cell_type": "code",
   "execution_count": 156,
   "id": "baaf3c03",
   "metadata": {},
   "outputs": [],
   "source": [
    "#WAP to find the factorial of first n numbers. (using for) "
   ]
  },
  {
   "cell_type": "code",
   "execution_count": null,
   "id": "8f9c5256",
   "metadata": {},
   "outputs": [],
   "source": [
    "#factorial  = 5 = 1x2x3x4x5\n",
    "#n=2=>2(2x1)\n",
    "#n=3=>6(3x2)\n",
    "#n=4=>24(6x4)\n",
    "#n=5=>120\n",
    "#...."
   ]
  },
  {
   "cell_type": "code",
   "execution_count": 170,
   "id": "521aff6e",
   "metadata": {},
   "outputs": [
    {
     "name": "stdout",
     "output_type": "stream",
     "text": [
      "factorial value : 120\n"
     ]
    }
   ],
   "source": [
    "n = 5\n",
    "\n",
    "\n",
    "fact = 1\n",
    "i = 1\n",
    "\n",
    "for i in range(1,n+1):\n",
    "    fact*=i\n",
    "print(\"factorial value :\",fact)\n"
   ]
  },
  {
   "cell_type": "raw",
   "id": "964df184",
   "metadata": {},
   "source": [
    "# Functions in Python\n",
    "\n",
    "keep in mind doing in functions :\n",
    "\n",
    "\"\"\"\n",
    "input kya ayega ,\n",
    "find kya krna hai and ,\n",
    "output kya ayega \n",
    "\"\"\"\n",
    "\n",
    "#syntax:\n",
    "        def function_name(parameters):\n",
    "        # Function body\n",
    "        # Code goes here\n",
    "        # You can perform operations, conditionals, loops, etc.\n",
    "\n",
    "        # Optionally, you can use the return statement\n",
    "        return value_to_return\n",
    "\n",
    "\n"
   ]
  },
  {
   "cell_type": "raw",
   "id": "9ca665e8",
   "metadata": {},
   "source": [
    "#Definition:\n",
    "\n",
    "\"\"\"\n",
    "def greet(name):\n",
    "\n",
    "    print(\"Hello, \" + name + \"!\")\n",
    "\n",
    "greet(\"Alice\")\n",
    "\n",
    "\"\"\"\n",
    "\n",
    "- Block of statements that perform a specific task.\n",
    "\n",
    "- Functions help to avoid repeating (redundant code) the same code by allowing you to define and reuse tasks whenever needed.\n",
    "\n",
    "- redundant code is not a good way of doing code "
   ]
  },
  {
   "cell_type": "code",
   "execution_count": 234,
   "id": "71b94c2f",
   "metadata": {},
   "outputs": [
    {
     "name": "stdout",
     "output_type": "stream",
     "text": [
      "Hello, Alice!\n"
     ]
    }
   ],
   "source": [
    "def greet(name):\n",
    "    print(\"Hello, \" + name + \"!\")\n",
    "greet(\"Alice\")\n"
   ]
  },
  {
   "cell_type": "raw",
   "id": "24b02eee",
   "metadata": {},
   "source": [
    "def func_name( param1, param2..) :#Function Definition\n",
    "#some work\n",
    "return val\n",
    "\n",
    "func_name( arg1, arg2 ..) #function call\n",
    "\n"
   ]
  },
  {
   "cell_type": "code",
   "execution_count": 235,
   "id": "48dde959",
   "metadata": {},
   "outputs": [
    {
     "name": "stdout",
     "output_type": "stream",
     "text": [
      "2399\n"
     ]
    }
   ],
   "source": [
    "#Example :\n",
    "# function defination\n",
    "def calc_sum(a,b):#parameters\n",
    "    return a+b\n",
    "\n",
    "sum = calc_sum(178,2221)#function call:arguments\n",
    "print(sum)"
   ]
  },
  {
   "cell_type": "code",
   "execution_count": 236,
   "id": "eb41da36",
   "metadata": {},
   "outputs": [],
   "source": [
    "def print_hello():\n",
    "    print(\"hello\")"
   ]
  },
  {
   "cell_type": "code",
   "execution_count": 237,
   "id": "e6d2d9f1",
   "metadata": {},
   "outputs": [
    {
     "name": "stdout",
     "output_type": "stream",
     "text": [
      "hello\n"
     ]
    }
   ],
   "source": [
    "print_hello()"
   ]
  },
  {
   "cell_type": "raw",
   "id": "744ca758",
   "metadata": {},
   "source": [
    "\"\"\"#average of 3 numbers :\n",
    "def numbers(a, b, c):\n",
    "    total = a + b + c\n",
    "    avg = total / 3\n",
    "    print(avg)\n",
    "    return avg\n",
    "\n",
    "numbers(1, 2, 3)\n",
    "\"\"\"\n",
    "its causing error in jupyter other wise its correct "
   ]
  },
  {
   "cell_type": "code",
   "execution_count": 238,
   "id": "14671939",
   "metadata": {},
   "outputs": [
    {
     "name": "stdout",
     "output_type": "stream",
     "text": [
      "2.0\n"
     ]
    }
   ],
   "source": [
    "def numbers(a, b, c):\n",
    "    total = a + b + c\n",
    "    \"\"\"Average of 3 numbers.\"\"\"\n",
    "    \n",
    "    avg = total / 3\n",
    "    return avg\n",
    "\n",
    "result = numbers(1, 2, 3)\n",
    "print(result)\n"
   ]
  },
  {
   "cell_type": "markdown",
   "id": "76c15d8e",
   "metadata": {},
   "source": [
    "# Parameters and Arguments:"
   ]
  },
  {
   "cell_type": "code",
   "execution_count": 241,
   "id": "baf3abf3",
   "metadata": {},
   "outputs": [
    {
     "name": "stdout",
     "output_type": "stream",
     "text": [
      "Hello, Alice!\n"
     ]
    }
   ],
   "source": [
    "def greet(name):\n",
    "    print(\"Hello, \" + name + \"!\")\n",
    "\n",
    "greet(\"Alice\")  # Output: Hello, Alice!\n"
   ]
  },
  {
   "cell_type": "markdown",
   "id": "03a21999",
   "metadata": {},
   "source": [
    "# Return Values:"
   ]
  },
  {
   "cell_type": "code",
   "execution_count": 242,
   "id": "ef1fa013",
   "metadata": {},
   "outputs": [
    {
     "name": "stdout",
     "output_type": "stream",
     "text": [
      "8\n"
     ]
    }
   ],
   "source": [
    "def add(a, b):\n",
    "    return a + b\n",
    "\n",
    "result = add(3, 5)\n",
    "print(result)  # Output: 8\n"
   ]
  },
  {
   "cell_type": "code",
   "execution_count": null,
   "id": "e8db9e0d",
   "metadata": {},
   "outputs": [],
   "source": []
  },
  {
   "cell_type": "code",
   "execution_count": null,
   "id": "f00214d6",
   "metadata": {},
   "outputs": [],
   "source": [
    "#Built-in Functions                User defined Functions\n",
    "- print( )\n",
    "\n",
    "- len( )\n",
    "\n",
    "- type( )\n",
    "\n",
    "- range( )"
   ]
  },
  {
   "cell_type": "code",
   "execution_count": 248,
   "id": "42979e29",
   "metadata": {},
   "outputs": [
    {
     "name": "stdout",
     "output_type": "stream",
     "text": [
      "prachi people\n"
     ]
    }
   ],
   "source": [
    "print(\"prachi\", \n",
    "      \"people\")"
   ]
  },
  {
   "cell_type": "markdown",
   "id": "7c080be5",
   "metadata": {},
   "source": [
    "# Default Parameters"
   ]
  },
  {
   "cell_type": "code",
   "execution_count": 249,
   "id": "e1118858",
   "metadata": {},
   "outputs": [],
   "source": [
    "#Assigning a default value to parameter, which is used when no argument is passed."
   ]
  },
  {
   "cell_type": "code",
   "execution_count": 259,
   "id": "9154a8e0",
   "metadata": {},
   "outputs": [
    {
     "name": "stdout",
     "output_type": "stream",
     "text": [
      "2\n"
     ]
    }
   ],
   "source": [
    "#for eg:\n",
    "def multiply(a=1, b=2):\n",
    "    \n",
    "    return a * b\n",
    "    \n",
    "result = multiply()\n",
    "print (result)"
   ]
  },
  {
   "cell_type": "markdown",
   "id": "e56bad2a",
   "metadata": {},
   "source": [
    "# practice :"
   ]
  },
  {
   "cell_type": "code",
   "execution_count": 68,
   "id": "be2bb016",
   "metadata": {},
   "outputs": [],
   "source": [
    "#Write A Function  to convert USD to INR.\n",
    "#$ ->  (₹)\n",
    "#To convert USD to INR, you need to multiply the amount in USD by the current exchange rate,\n",
    "#which tells you how many INR you get for 1 USD.\n"
   ]
  },
  {
   "cell_type": "code",
   "execution_count": 69,
   "id": "c9546ac1",
   "metadata": {},
   "outputs": [],
   "source": [
    "#\"You figure out how much money you have in rupees by multiplying the number of dollars you have by the exchange rate.\""
   ]
  },
  {
   "cell_type": "code",
   "execution_count": 92,
   "id": "bc998f97",
   "metadata": {},
   "outputs": [
    {
     "name": "stdout",
     "output_type": "stream",
     "text": [
      "amount in inr 8346.0\n"
     ]
    }
   ],
   "source": [
    "# another way :\n",
    "def usd_inr(amt_usd,exch_rate):\n",
    "    return (amt_usd * exch_rate)\n",
    "    \n",
    "inr_amt = usd_inr(100,83.46)\n",
    "print(\"amount in inr\",inr_amt)\n"
   ]
  },
  {
   "cell_type": "code",
   "execution_count": 93,
   "id": "a4302c4f",
   "metadata": {},
   "outputs": [
    {
     "name": "stdout",
     "output_type": "stream",
     "text": [
      "Enter amount in USD: 100\n",
      "8346.0\n"
     ]
    }
   ],
   "source": [
    "# another way :(Easiest one )\n",
    "num = int(input(\"Enter amount in USD: \"))\n",
    "\n",
    "inr = 83.46*num #assuming the conversion rate is 1 USD = 75 INR\n",
    "\n",
    "print(inr)"
   ]
  },
  {
   "cell_type": "code",
   "execution_count": 102,
   "id": "abb7d239",
   "metadata": {},
   "outputs": [
    {
     "name": "stdout",
     "output_type": "stream",
     "text": [
      "   amt_usd  exch_rate  amt_inr\n",
      "0       10      83.46    834.6\n",
      "1       20      83.46   1669.2\n",
      "2       30      83.46   2503.8\n"
     ]
    }
   ],
   "source": [
    "# another way :\n",
    "import pandas as pd\n",
    "\n",
    "def convert(df, usd_inr):\n",
    "    df['amt_inr'] = df['amt_usd'] * usd_inr\n",
    "    return df\n",
    "\n",
    "data = {'amt_usd': [10, 20, 30],\n",
    "        'exch_rate': [83.46,83.46 ,83.46]} \n",
    "df = pd.DataFrame(data)\n",
    "\n",
    "#usd_inr = 83.46\n",
    "\n",
    "converted_df = convert(df, usd_inr)\n",
    "print(converted_df)\n"
   ]
  },
  {
   "cell_type": "code",
   "execution_count": 107,
   "id": "a6a3483a",
   "metadata": {},
   "outputs": [
    {
     "name": "stdout",
     "output_type": "stream",
     "text": [
      "Equivalent amount in rupees: 8346.0\n"
     ]
    }
   ],
   "source": [
    "# another way :\n",
    "def dollars_rupees(dollars):\n",
    "    exchange_rate = 83.46\n",
    "    rupees = dollars * exchange_rate\n",
    "    return rupees\n",
    "\n",
    "rupees = dollars_rupees(100)\n",
    "print(\"Equivalent amount in rupees:\", rupees)\n"
   ]
  },
  {
   "cell_type": "code",
   "execution_count": 114,
   "id": "22176c00",
   "metadata": {},
   "outputs": [
    {
     "name": "stdout",
     "output_type": "stream",
     "text": [
      "1 USD = 83 INR\n"
     ]
    }
   ],
   "source": [
    "def converter(usd_val):\n",
    "    inr_val = usd_val * 83\n",
    "    \n",
    "    print(usd_val,\"USD =\",inr_val,\"INR\")\n",
    "    \n",
    "converter(1)"
   ]
  },
  {
   "cell_type": "code",
   "execution_count": 108,
   "id": "ee0646f7",
   "metadata": {},
   "outputs": [],
   "source": [
    "#WAF to print the length of a list. ( list is the parameter)"
   ]
  },
  {
   "cell_type": "raw",
   "id": "7d51e65c",
   "metadata": {},
   "source": [
    "\n",
    "\n",
    "cities = [\"alexa\",\"joe\",1,2,5,\"crazy\"]\n",
    "\n",
    "len (cities)\n"
   ]
  },
  {
   "cell_type": "code",
   "execution_count": 56,
   "id": "f4da7f6f",
   "metadata": {},
   "outputs": [
    {
     "name": "stdout",
     "output_type": "stream",
     "text": [
      "6\n"
     ]
    }
   ],
   "source": [
    "#we have to ptint this using function:\n",
    "def print_L(cities):\n",
    "    print(len(cities))\n",
    "\n",
    "cities = [\"alexa\",\"joe\",1,2,5,\"crazy\"]\n",
    "print_L(cities)\n"
   ]
  },
  {
   "cell_type": "code",
   "execution_count": 35,
   "id": "0ae54387",
   "metadata": {},
   "outputs": [],
   "source": [
    "#WAF to print the elements of a list in a single line. ( list is the parameter)\n",
    "# like that List = [\"alexa\",\"joe\",\"ZEROES\",\"crazy\"]\n",
    "          "
   ]
  },
  {
   "cell_type": "code",
   "execution_count": 61,
   "id": "e3627b30",
   "metadata": {},
   "outputs": [
    {
     "name": "stdout",
     "output_type": "stream",
     "text": [
      "alexa joe ZEROES crazy "
     ]
    }
   ],
   "source": [
    "#1.:\n",
    "def char( list):\n",
    "    for ele_s in list:\n",
    "        print(ele_s,end =\" \")# list in a single line\n",
    "        \n",
    "List = [\"alexa\",\"joe\",\"ZEROES\",\"crazy\"]\n",
    "char(List)\n"
   ]
  },
  {
   "cell_type": "code",
   "execution_count": 4,
   "id": "c812f6eb",
   "metadata": {},
   "outputs": [
    {
     "name": "stdout",
     "output_type": "stream",
     "text": [
      "1 2 3 4 5\n"
     ]
    }
   ],
   "source": [
    "# or\n",
    "def print_list_elements(lst):\n",
    "    print(*lst, sep=' ')\n",
    "\n",
    "# Example usage:\n",
    "my_list = [1, 2, 3, 4, 5]\n",
    "print_list_elements(my_list)  \n"
   ]
  },
  {
   "cell_type": "code",
   "execution_count": 5,
   "id": "f5ddcb4e",
   "metadata": {},
   "outputs": [
    {
     "name": "stdout",
     "output_type": "stream",
     "text": [
      "apple banana orange grape\n"
     ]
    }
   ],
   "source": [
    "words = [\"apple\", \"banana\", \"orange\", \"grape\"]\n",
    "print(*words, sep=' ')\n",
    "\n",
    "#print(*lst, sep=' ') unpacks and prints the elements of the list lst with a space between each element."
   ]
  },
  {
   "cell_type": "code",
   "execution_count": 9,
   "id": "092809a5",
   "metadata": {},
   "outputs": [
    {
     "name": "stdout",
     "output_type": "stream",
     "text": [
      "1 m 2 n 3 b 4 p 5 b\n"
     ]
    }
   ],
   "source": [
    "def num(lst):\n",
    "    print(*lst,sep = ' ')\n",
    "    \n",
    "lst_1 = [1,\"m\",2,'n',3,'b',4,'p',5,'b']\n",
    "num(lst_1)"
   ]
  },
  {
   "cell_type": "code",
   "execution_count": 14,
   "id": "9aca460e",
   "metadata": {},
   "outputs": [
    {
     "name": "stdout",
     "output_type": "stream",
     "text": [
      "1 m 2 n 3 b 4 p 5 b "
     ]
    }
   ],
   "source": [
    "def num(lst):\n",
    "    for ele in lst:\n",
    "        print(ele,end= ' ')\n",
    "        #end = ' ' = for print in same line ,\n",
    "        #sep = ' ' = for print in the next line .\n",
    "lst_1 = [1,\"m\",2,'n',3,'b',4,'p',5,'b']\n",
    "num(lst_1)"
   ]
  },
  {
   "cell_type": "code",
   "execution_count": 15,
   "id": "b7af05f6",
   "metadata": {},
   "outputs": [
    {
     "name": "stdout",
     "output_type": "stream",
     "text": [
      "1\n",
      "m\n",
      "2\n",
      "n\n",
      "3\n",
      "b\n",
      "4\n",
      "p\n",
      "5\n",
      "b\n"
     ]
    }
   ],
   "source": [
    "def num(lst):\n",
    "    for ele in lst:\n",
    "        print(ele,sep= ' ')\n",
    "        #end = ' ' = for print in same line ,\n",
    "        #sep = ' ' = for print in the next line .\n",
    "lst_1 = [1,\"m\",2,'n',3,'b',4,'p',5,'b']\n",
    "num(lst_1)"
   ]
  },
  {
   "cell_type": "code",
   "execution_count": 290,
   "id": "9477aff3",
   "metadata": {},
   "outputs": [],
   "source": [
    "#WAF to find the factorial of n. (n is the parameter)\n"
   ]
  },
  {
   "cell_type": "code",
   "execution_count": 21,
   "id": "0915b8a5",
   "metadata": {},
   "outputs": [
    {
     "name": "stdout",
     "output_type": "stream",
     "text": [
      "Factorial of 5 is: 120\n"
     ]
    }
   ],
   "source": [
    "def fac(n):                                                    \n",
    "    if n == 0: # the factorial of 0 is defined to be 1   \n",
    "        return 1\n",
    "    else:\n",
    "        return n * fac(n-1)\n",
    "    \n",
    "num = fac(5)\n",
    "print(\"Factorial of 5 is:\", result)"
   ]
  },
  {
   "cell_type": "code",
   "execution_count": 81,
   "id": "de18fba8",
   "metadata": {},
   "outputs": [],
   "source": [
    "#WAF which takes a number as an input and check a if its odd or even \n",
    "#if its odd -> return a string odd , if its even return a string even in the output \n"
   ]
  },
  {
   "cell_type": "code",
   "execution_count": 92,
   "id": "5be78dd1",
   "metadata": {},
   "outputs": [
    {
     "name": "stdout",
     "output_type": "stream",
     "text": [
      "Enter a number: 28\n",
      "The number is  even \n"
     ]
    }
   ],
   "source": [
    "\n",
    "def odd_even(num):\n",
    "    if num % 2==0:\n",
    "        return \" even \"\n",
    "    else:\n",
    "         return \" odd \"\n",
    "    \n",
    "num = int(input(\"Enter a number: \"))\n",
    "result = odd_even(num)\n",
    "print(\"The number is\", result)\n"
   ]
  },
  {
   "cell_type": "code",
   "execution_count": 94,
   "id": "7e6a40ec",
   "metadata": {},
   "outputs": [
    {
     "name": "stdout",
     "output_type": "stream",
     "text": [
      "Enter a number: 28\n",
      "The number is even\n"
     ]
    }
   ],
   "source": [
    "def odd_even(num):\n",
    "    return \"even\" if num % 2 == 0 else \"odd\"\n",
    "\n",
    "num = int(input(\"Enter a number: \"))\n",
    "result = odd_even(num)\n",
    "print(\"The number is\", result)\n",
    "\n"
   ]
  },
  {
   "cell_type": "code",
   "execution_count": null,
   "id": "a6d5194a",
   "metadata": {},
   "outputs": [],
   "source": []
  },
  {
   "cell_type": "markdown",
   "id": "797109e6",
   "metadata": {},
   "source": [
    "## Recursion"
   ]
  },
  {
   "cell_type": "markdown",
   "id": "80a8c3af",
   "metadata": {},
   "source": [
    "- When a function calls itself repeatedly."
   ]
  },
  {
   "cell_type": "code",
   "execution_count": 203,
   "id": "c8d9515b",
   "metadata": {},
   "outputs": [],
   "source": [
    "# call stack functioning :(important )"
   ]
  },
  {
   "cell_type": "code",
   "execution_count": 51,
   "id": "00eb20d6",
   "metadata": {
    "scrolled": false
   },
   "outputs": [
    {
     "name": "stdout",
     "output_type": "stream",
     "text": [
      "5\n",
      "4\n",
      "3\n",
      "2\n",
      "1\n"
     ]
    }
   ],
   "source": [
    "def show(n):\n",
    "    #stopping condition \n",
    "    if(n == 0):#base case (Where to stop this function )\n",
    "\n",
    "        return#important to write otherwise function crash \n",
    "    print(n)\n",
    "    show(n-1)#again call show function \n",
    "    \n",
    "show(5)"
   ]
  },
  {
   "cell_type": "code",
   "execution_count": 207,
   "id": "c5b6dfe0",
   "metadata": {},
   "outputs": [],
   "source": [
    "#through factorial :\n",
    "#(recrusense relation )"
   ]
  },
  {
   "cell_type": "code",
   "execution_count": null,
   "id": "b96f1f96",
   "metadata": {},
   "outputs": [],
   "source": [
    "#factorial:\n",
    "#fact(n) = fact(n-1)xn\n",
    "#fact(n-1) = fact(n-2)(n-1)....."
   ]
  },
  {
   "cell_type": "code",
   "execution_count": 208,
   "id": "cbcdb947",
   "metadata": {},
   "outputs": [
    {
     "name": "stdout",
     "output_type": "stream",
     "text": [
      "120\n"
     ]
    }
   ],
   "source": [
    "def fact(n):\n",
    "    if(n == 1 or n ==0):\n",
    "        return 1\n",
    "    return fact(n-1) * n\n",
    "print(fact(5))"
   ]
  },
  {
   "cell_type": "code",
   "execution_count": null,
   "id": "773a4840",
   "metadata": {},
   "outputs": [],
   "source": []
  },
  {
   "cell_type": "code",
   "execution_count": 49,
   "id": "c57ee656",
   "metadata": {},
   "outputs": [
    {
     "name": "stdout",
     "output_type": "stream",
     "text": [
      "5\n",
      "4\n",
      "3\n",
      "2\n",
      "1\n",
      "sum of first n natural numbers  = 15\n"
     ]
    }
   ],
   "source": [
    "#for practice :\n",
    "#Write a recursive function to calculate the sum of first n natural numbers.\n",
    "\n",
    "\n",
    "\n",
    "\n",
    "def fun_sum(n):\n",
    "    if(n == 0):\n",
    "        return 0\n",
    "    print(n)\n",
    "   \n",
    "    return fun_sum(n-1)+n\n",
    "    #sum(5)->sum(4)+5\n",
    "    #sum(4)->sum(3)+4\n",
    "    #sum(3)->sum(2)+3....like this \n",
    "\n",
    "\n",
    "sum = fun_sum(5)\n",
    "print(\"sum of first n natural numbers \",\"=\",sum)"
   ]
  },
  {
   "cell_type": "code",
   "execution_count": 95,
   "id": "802a12e7",
   "metadata": {},
   "outputs": [
    {
     "name": "stdout",
     "output_type": "stream",
     "text": [
      "5\n",
      "4\n",
      "3\n",
      "2\n",
      "1\n",
      "sum of first n natural numbers = 15\n"
     ]
    }
   ],
   "source": [
    "def fun_sum(n):\n",
    "    result = 0\n",
    "    while n > 0:\n",
    "        print(n)\n",
    "        result += n\n",
    "        n -= 1\n",
    "    return result\n",
    "\n",
    "sum_result = fun_sum(5)\n",
    "print(\"sum of first n natural numbers =\", sum_result)\n"
   ]
  },
  {
   "cell_type": "code",
   "execution_count": 50,
   "id": "8f6879e1",
   "metadata": {},
   "outputs": [],
   "source": [
    "#Write a recursive function to print all elements in a list.\n",
    "\n",
    "#Hint : use list & index as parameters.\n"
   ]
  },
  {
   "cell_type": "code",
   "execution_count": 52,
   "id": "fd75f72a",
   "metadata": {
    "scrolled": true
   },
   "outputs": [
    {
     "name": "stdout",
     "output_type": "stream",
     "text": [
      "Apple\n",
      "Guava\n",
      "Litchi\n",
      "Avacado\n"
     ]
    }
   ],
   "source": [
    "def print_list(list,idx = 0):\n",
    "    if(idx == len(list)):\n",
    "        return\n",
    "    print(list[idx])\n",
    "    print_list(list, idx+1)\n",
    "    \n",
    "fruits = [\"Apple\",\"Guava\",\"Litchi\",\"Avacado\"]\n",
    "print_list(fruits)"
   ]
  },
  {
   "cell_type": "code",
   "execution_count": null,
   "id": "c570119e",
   "metadata": {},
   "outputs": [],
   "source": []
  },
  {
   "cell_type": "code",
   "execution_count": null,
   "id": "33de6a41",
   "metadata": {},
   "outputs": [],
   "source": []
  },
  {
   "cell_type": "markdown",
   "id": "11aeb84f",
   "metadata": {},
   "source": [
    "# FILE I/O in Python "
   ]
  },
  {
   "cell_type": "markdown",
   "id": "a9cb8d7c",
   "metadata": {},
   "source": [
    "# Python can be used to perform operations on a file. (read & write data)"
   ]
  },
  {
   "cell_type": "raw",
   "id": "8ab9be4a",
   "metadata": {},
   "source": [
    "# Types of all files\n",
    "\n",
    "- 1.Text Files : .txt, .docx, .log etc.\n",
    "\n",
    "- 2. Binary Files : .mp4, .mov, .png, .jpeg etc. \n",
    "\n",
    "but they all are stored as a 0, and  formates in system "
   ]
  },
  {
   "cell_type": "markdown",
   "id": "28d029dd",
   "metadata": {},
   "source": [
    "#for example :\n",
    "- 1.Text Files : .txt, .docx, .log etc.\n"
   ]
  },
  {
   "cell_type": "raw",
   "id": "bd24b481",
   "metadata": {},
   "source": [
    "\n",
    "\n"
   ]
  },
  {
   "cell_type": "code",
   "execution_count": 80,
   "id": "8beb339d",
   "metadata": {
    "scrolled": true
   },
   "outputs": [
    {
     "name": "stdout",
     "output_type": "stream",
     "text": [
      "Hi\n",
      "\n",
      "testing ...\n",
      "\n",
      "For I/O FILE (OPEN) in jupyter.....\n",
      "<class 'str'>\n"
     ]
    }
   ],
   "source": [
    "# for only text file open :\n",
    "\n",
    "f = open(\"Testing for text file open .txt\",\"r+t\")# reading and testing is the default mode in python \n",
    "data = f.read()\n",
    "print(data)\n",
    "print(type(data))\n",
    "f.close()"
   ]
  },
  {
   "cell_type": "code",
   "execution_count": null,
   "id": "7ddd1a31",
   "metadata": {},
   "outputs": [],
   "source": []
  },
  {
   "cell_type": "code",
   "execution_count": null,
   "id": "374daa21",
   "metadata": {},
   "outputs": [],
   "source": []
  },
  {
   "cell_type": "code",
   "execution_count": null,
   "id": "4d5f87cf",
   "metadata": {},
   "outputs": [],
   "source": []
  },
  {
   "cell_type": "code",
   "execution_count": null,
   "id": "9890f90b",
   "metadata": {},
   "outputs": [],
   "source": []
  },
  {
   "cell_type": "code",
   "execution_count": null,
   "id": "97817386",
   "metadata": {},
   "outputs": [],
   "source": []
  }
 ],
 "metadata": {
  "kernelspec": {
   "display_name": "Python 3 (ipykernel)",
   "language": "python",
   "name": "python3"
  },
  "language_info": {
   "codemirror_mode": {
    "name": "ipython",
    "version": 3
   },
   "file_extension": ".py",
   "mimetype": "text/x-python",
   "name": "python",
   "nbconvert_exporter": "python",
   "pygments_lexer": "ipython3",
   "version": "3.11.3"
  }
 },
 "nbformat": 4,
 "nbformat_minor": 5
}
